{
  "cells": [
    {
      "cell_type": "markdown",
      "metadata": {
        "id": "7j49B3CxmKcU"
      },
      "source": [
        "#**Overview**"
      ]
    },
    {
      "cell_type": "markdown",
      "metadata": {
        "id": "2BrJ9JmWkrAz"
      },
      "source": [
        "###**In this project, we will do web scraping to extract the data for our analysis. For this, we will use BeautifulSoup module. We will use request method for pulling data from FlipKart.**\n",
        "###**This project is for my practical purpose. Any kind of recommendations is heartly accepted.**"
      ]
    },
    {
      "cell_type": "code",
      "execution_count": 1,
      "metadata": {
        "id": "t8ye6iWQPM92"
      },
      "outputs": [],
      "source": [
        "# Import dependencies\n",
        "import requests\n",
        "import pandas as pd\n",
        "from bs4 import BeautifulSoup"
      ]
    },
    {
      "cell_type": "markdown",
      "metadata": {
        "id": "maKwPHvluTub"
      },
      "source": [
        "# **Smartphones Under ₹ 30,000**"
      ]
    },
    {
      "cell_type": "code",
      "execution_count": 2,
      "metadata": {
        "colab": {
          "base_uri": "https://localhost:8080/"
        },
        "id": "CJ87WQZuFnJn",
        "outputId": "8be92faf-bf55-43a5-eb81-7b9ac14bc365"
      },
      "outputs": [
        {
          "data": {
            "text/plain": [
              "<Response [200]>"
            ]
          },
          "execution_count": 2,
          "metadata": {},
          "output_type": "execute_result"
        }
      ],
      "source": [
        "url = \"https://www.flipkart.com/search?q=mobiles+under+30000&sid=tyy%2C4io&as=on&as-show=on&otracker=AS_QueryStore_OrganicAutoSuggest_1_19_na_na_na&otracker1=AS_QueryStore_OrganicAutoSuggest_1_19_na_na_na&as-pos=1&as-type=HISTORY&suggestionId=mobiles+under+30000%7CMobiles&requestId=bb73f3df-c81e-4d3f-b276-c12eb62f407a&page=1\"\n",
        "req = requests.get(url)\n",
        "req"
      ]
    },
    {
      "cell_type": "code",
      "execution_count": 3,
      "metadata": {
        "id": "gE26TTnqQ3qc"
      },
      "outputs": [],
      "source": [
        "# Fetching the html\n",
        "soup = BeautifulSoup(req.text, \"html.parser\")"
      ]
    },
    {
      "cell_type": "code",
      "execution_count": 4,
      "metadata": {
        "colab": {
          "base_uri": "https://localhost:8080/"
        },
        "id": "RrivX-qyRXN5",
        "outputId": "6c467274-20fb-43b1-ea61-84db7cb08faa"
      },
      "outputs": [
        {
          "data": {
            "text/plain": [
              "[<div class=\"col col-7-12\"><div class=\"_4rR01T\">MOTOROLA Edge 40 (Nebula Green, 256 GB)</div><div class=\"gUuXy-\"><span class=\"_1lRcqv\" id=\"productRating_LSTMOBGKHNBTVZZU8PHORDDSI_MOBGKHNBTVZZU8PH_\"><div class=\"_3LWZlK\">4.2<img class=\"_1wB99o\" src=\"data:image/svg+xml;base64,PHN2ZyB4bWxucz0iaHR0cDovL3d3dy53My5vcmcvMjAwMC9zdmciIHdpZHRoPSIxMyIgaGVpZ2h0PSIxMiI+PHBhdGggZmlsbD0iI0ZGRiIgZD0iTTYuNSA5LjQzOWwtMy42NzQgMi4yMy45NC00LjI2LTMuMjEtMi44ODMgNC4yNTQtLjQwNEw2LjUuMTEybDEuNjkgNC4wMSA0LjI1NC40MDQtMy4yMSAyLjg4Mi45NCA0LjI2eiIvPjwvc3ZnPg==\"/></div></span><span class=\"_2_R_DZ\"><span><span>12,911 Ratings </span><span class=\"_13vcmD\">&amp;</span><span> 2,087 Reviews</span></span></span></div><div class=\"fMghEO\"><ul class=\"_1xgFaf\"><li class=\"rgWa7D\">8 GB RAM | 256 GB ROM</li><li class=\"rgWa7D\">16.64 cm (6.55 inch) Full HD+ Display</li><li class=\"rgWa7D\">50MP + 13MP | 32MP Front Camera</li><li class=\"rgWa7D\">4400 mAh Battery</li><li class=\"rgWa7D\">Dimensity 8020 Processor</li><li class=\"rgWa7D\">Vegan Leather</li><li class=\"rgWa7D\">1 Year Handset and 6 Months Accessories</li></ul></div></div>,\n",
              " <div class=\"col col-7-12\"><div class=\"_4rR01T\">POCO X5 Pro 5G (Horizon Blue, 256 GB)</div><div class=\"gUuXy-\"><span class=\"_1lRcqv\" id=\"productRating_LSTMOBGMDKQ2NHTBHJMQ7AMXN_MOBGMDKQ2NHTBHJM_\"><div class=\"_3LWZlK\">4.3<img class=\"_1wB99o\" src=\"data:image/svg+xml;base64,PHN2ZyB4bWxucz0iaHR0cDovL3d3dy53My5vcmcvMjAwMC9zdmciIHdpZHRoPSIxMyIgaGVpZ2h0PSIxMiI+PHBhdGggZmlsbD0iI0ZGRiIgZD0iTTYuNSA5LjQzOWwtMy42NzQgMi4yMy45NC00LjI2LTMuMjEtMi44ODMgNC4yNTQtLjQwNEw2LjUuMTEybDEuNjkgNC4wMSA0LjI1NC40MDQtMy4yMSAyLjg4Mi45NCA0LjI2eiIvPjwvc3ZnPg==\"/></div></span><span class=\"_2_R_DZ\"><span><span>11,541 Ratings </span><span class=\"_13vcmD\">&amp;</span><span> 1,173 Reviews</span></span></span></div><div class=\"fMghEO\"><ul class=\"_1xgFaf\"><li class=\"rgWa7D\">8 GB RAM | 256 GB ROM</li><li class=\"rgWa7D\">16.94 cm (6.67 inch) Full HD+ Display</li><li class=\"rgWa7D\">108MP + 8MP + 2MP | 16MP Front Camera</li><li class=\"rgWa7D\">5000 mAh Battery</li><li class=\"rgWa7D\">Qualcomm Snapdragon 778G Processor</li><li class=\"rgWa7D\">1 Year Manufacturer Warranty for Phone and 6 Months Warranty for in the Box Accessories</li></ul></div></div>,\n",
              " <div class=\"col col-7-12\"><div class=\"_4rR01T\">REDMI Note 12 Pro 5G (Glacier Blue, 128 GB)</div><div class=\"gUuXy-\"><span class=\"_1lRcqv\" id=\"productRating_LSTMOBGH2UVZHHQGRRPHUPSMM_MOBGH2UVZHHQGRRP_\"><div class=\"_3LWZlK\">4.2<img class=\"_1wB99o\" src=\"data:image/svg+xml;base64,PHN2ZyB4bWxucz0iaHR0cDovL3d3dy53My5vcmcvMjAwMC9zdmciIHdpZHRoPSIxMyIgaGVpZ2h0PSIxMiI+PHBhdGggZmlsbD0iI0ZGRiIgZD0iTTYuNSA5LjQzOWwtMy42NzQgMi4yMy45NC00LjI2LTMuMjEtMi44ODMgNC4yNTQtLjQwNEw2LjUuMTEybDEuNjkgNC4wMSA0LjI1NC40MDQtMy4yMSAyLjg4Mi45NCA0LjI2eiIvPjwvc3ZnPg==\"/></div></span><span class=\"_2_R_DZ\"><span><span>28,790 Ratings </span><span class=\"_13vcmD\">&amp;</span><span> 2,780 Reviews</span></span></span></div><div class=\"fMghEO\"><ul class=\"_1xgFaf\"><li class=\"rgWa7D\">6 GB RAM | 128 GB ROM</li><li class=\"rgWa7D\">16.94 cm (6.67 inch) Full HD+ AMOLED Display</li><li class=\"rgWa7D\">50MP (OIS) + 8MP + 2MP | 16MP Front Camera</li><li class=\"rgWa7D\">5000 mAh Lithium Polymer Battery</li><li class=\"rgWa7D\">Mediatek Dimensity 1080 Processor</li><li class=\"rgWa7D\">1 Year Manufacturer Warranty for Phone and 6 Months Warranty for In the Box Accessories</li></ul></div></div>,\n",
              " <div class=\"col col-7-12\"><div class=\"_4rR01T\">REDMI Note 12 Pro 5G (Onyx Black, 128 GB)</div><div class=\"gUuXy-\"><span class=\"_1lRcqv\" id=\"productRating_LSTMOBGH2UVMHEPGSHMZTFAGO_MOBGH2UVMHEPGSHM_\"><div class=\"_3LWZlK\">4.2<img class=\"_1wB99o\" src=\"data:image/svg+xml;base64,PHN2ZyB4bWxucz0iaHR0cDovL3d3dy53My5vcmcvMjAwMC9zdmciIHdpZHRoPSIxMyIgaGVpZ2h0PSIxMiI+PHBhdGggZmlsbD0iI0ZGRiIgZD0iTTYuNSA5LjQzOWwtMy42NzQgMi4yMy45NC00LjI2LTMuMjEtMi44ODMgNC4yNTQtLjQwNEw2LjUuMTEybDEuNjkgNC4wMSA0LjI1NC40MDQtMy4yMSAyLjg4Mi45NCA0LjI2eiIvPjwvc3ZnPg==\"/></div></span><span class=\"_2_R_DZ\"><span><span>28,790 Ratings </span><span class=\"_13vcmD\">&amp;</span><span> 2,780 Reviews</span></span></span></div><div class=\"fMghEO\"><ul class=\"_1xgFaf\"><li class=\"rgWa7D\">6 GB RAM | 128 GB ROM</li><li class=\"rgWa7D\">16.94 cm (6.67 inch) Full HD+ AMOLED Display</li><li class=\"rgWa7D\">50MP (OIS) + 8MP + 2MP | 16MP Front Camera</li><li class=\"rgWa7D\">5000 mAh Lithium Polymer Battery</li><li class=\"rgWa7D\">Mediatek Dimensity 1080 Processor</li><li class=\"rgWa7D\">1 Year Manufacturer Warranty for Phone and 6 Months Warranty for In the Box Accessories</li></ul></div></div>,\n",
              " <div class=\"col col-7-12\"><div class=\"_4rR01T\">REDMI Note 12 Pro 5G (Stardust Purple, 128 GB)</div><div class=\"gUuXy-\"><span class=\"_1lRcqv\" id=\"productRating_LSTMOBGH2UVWGPENHHRD63VRD_MOBGH2UVWGPENHHR_\"><div class=\"_3LWZlK\">4.2<img class=\"_1wB99o\" src=\"data:image/svg+xml;base64,PHN2ZyB4bWxucz0iaHR0cDovL3d3dy53My5vcmcvMjAwMC9zdmciIHdpZHRoPSIxMyIgaGVpZ2h0PSIxMiI+PHBhdGggZmlsbD0iI0ZGRiIgZD0iTTYuNSA5LjQzOWwtMy42NzQgMi4yMy45NC00LjI2LTMuMjEtMi44ODMgNC4yNTQtLjQwNEw2LjUuMTEybDEuNjkgNC4wMSA0LjI1NC40MDQtMy4yMSAyLjg4Mi45NCA0LjI2eiIvPjwvc3ZnPg==\"/></div></span><span class=\"_2_R_DZ\"><span><span>14,028 Ratings </span><span class=\"_13vcmD\">&amp;</span><span> 1,319 Reviews</span></span></span></div><div class=\"fMghEO\"><ul class=\"_1xgFaf\"><li class=\"rgWa7D\">8 GB RAM | 128 GB ROM</li><li class=\"rgWa7D\">16.94 cm (6.67 inch) Full HD+ AMOLED Display</li><li class=\"rgWa7D\">50MP (OIS) + 8MP + 2MP | 16MP Front Camera</li><li class=\"rgWa7D\">5000 mAh Lithium Polymer Battery</li><li class=\"rgWa7D\">Mediatek Dimensity 1080 Processor</li><li class=\"rgWa7D\">1 Year Manufacturer Warranty for Phone and 6 Months Warranty for In the Box Accessories</li></ul></div></div>,\n",
              " <div class=\"col col-7-12\"><div class=\"_4rR01T\">REDMI Note 12 Pro 5G (Stardust Purple, 128 GB)</div><div class=\"gUuXy-\"><span class=\"_1lRcqv\" id=\"productRating_LSTMOBGH2UVWWDA4MS6M7LVCT_MOBGH2UVWWDA4MS6_\"><div class=\"_3LWZlK\">4.2<img class=\"_1wB99o\" src=\"data:image/svg+xml;base64,PHN2ZyB4bWxucz0iaHR0cDovL3d3dy53My5vcmcvMjAwMC9zdmciIHdpZHRoPSIxMyIgaGVpZ2h0PSIxMiI+PHBhdGggZmlsbD0iI0ZGRiIgZD0iTTYuNSA5LjQzOWwtMy42NzQgMi4yMy45NC00LjI2LTMuMjEtMi44ODMgNC4yNTQtLjQwNEw2LjUuMTEybDEuNjkgNC4wMSA0LjI1NC40MDQtMy4yMSAyLjg4Mi45NCA0LjI2eiIvPjwvc3ZnPg==\"/></div></span><span class=\"_2_R_DZ\"><span><span>28,790 Ratings </span><span class=\"_13vcmD\">&amp;</span><span> 2,780 Reviews</span></span></span></div><div class=\"fMghEO\"><ul class=\"_1xgFaf\"><li class=\"rgWa7D\">6 GB RAM | 128 GB ROM</li><li class=\"rgWa7D\">16.94 cm (6.67 inch) Full HD+ AMOLED Display</li><li class=\"rgWa7D\">50MP (OIS) + 8MP + 2MP | 16MP Front Camera</li><li class=\"rgWa7D\">5000 mAh Lithium Polymer Battery</li><li class=\"rgWa7D\">Mediatek Dimensity 1080 Processor</li><li class=\"rgWa7D\">1 Year Manufacturer Warranty for Phone and 6 Months Warranty for In the Box Accessories</li></ul></div></div>,\n",
              " <div class=\"col col-7-12\"><div class=\"_4rR01T\">realme 11 Pro+ 5G (Oasis Green, 256 GB)</div><div class=\"gUuXy-\"><span class=\"_1lRcqv\" id=\"productRating_LSTMOBGPU8HCGG9PCERHGOPBG_MOBGPU8HCGG9PCER_\"><div class=\"_3LWZlK\">4.3<img class=\"_1wB99o\" src=\"data:image/svg+xml;base64,PHN2ZyB4bWxucz0iaHR0cDovL3d3dy53My5vcmcvMjAwMC9zdmciIHdpZHRoPSIxMyIgaGVpZ2h0PSIxMiI+PHBhdGggZmlsbD0iI0ZGRiIgZD0iTTYuNSA5LjQzOWwtMy42NzQgMi4yMy45NC00LjI2LTMuMjEtMi44ODMgNC4yNTQtLjQwNEw2LjUuMTEybDEuNjkgNC4wMSA0LjI1NC40MDQtMy4yMSAyLjg4Mi45NCA0LjI2eiIvPjwvc3ZnPg==\"/></div></span><span class=\"_2_R_DZ\"><span><span>4,323 Ratings </span><span class=\"_13vcmD\">&amp;</span><span> 515 Reviews</span></span></span></div><div class=\"fMghEO\"><ul class=\"_1xgFaf\"><li class=\"rgWa7D\">12 GB RAM | 256 GB ROM</li><li class=\"rgWa7D\">17.02 cm (6.7 inch) Full HD+ Display</li><li class=\"rgWa7D\">200MP (OIS) + 8MP + 2MP | 32MP Front Camera</li><li class=\"rgWa7D\">5000 mAh Battery</li><li class=\"rgWa7D\">Dimensity 7050 Processor</li><li class=\"rgWa7D\">1 Year Manufacturer Warranty for Device and 6 Months Manufacturer Warranty for In-Box Accessories</li></ul></div></div>,\n",
              " <div class=\"col col-7-12\"><div class=\"_4rR01T\">REDMI Note 12 Pro 5G (Glacier Blue, 256 GB)</div><div class=\"gUuXy-\"><span class=\"_1lRcqv\" id=\"productRating_LSTMOBGH2UVHWEZKFX2Y1VWDD_MOBGH2UVHWEZKFX2_\"><div class=\"_3LWZlK\">4.2<img class=\"_1wB99o\" src=\"data:image/svg+xml;base64,PHN2ZyB4bWxucz0iaHR0cDovL3d3dy53My5vcmcvMjAwMC9zdmciIHdpZHRoPSIxMyIgaGVpZ2h0PSIxMiI+PHBhdGggZmlsbD0iI0ZGRiIgZD0iTTYuNSA5LjQzOWwtMy42NzQgMi4yMy45NC00LjI2LTMuMjEtMi44ODMgNC4yNTQtLjQwNEw2LjUuMTEybDEuNjkgNC4wMSA0LjI1NC40MDQtMy4yMSAyLjg4Mi45NCA0LjI2eiIvPjwvc3ZnPg==\"/></div></span><span class=\"_2_R_DZ\"><span><span>14,028 Ratings </span><span class=\"_13vcmD\">&amp;</span><span> 1,319 Reviews</span></span></span></div><div class=\"fMghEO\"><ul class=\"_1xgFaf\"><li class=\"rgWa7D\">8 GB RAM | 256 GB ROM</li><li class=\"rgWa7D\">16.94 cm (6.67 inch) Full HD+ AMOLED Display</li><li class=\"rgWa7D\">50MP (OIS) + 8MP + 2MP | 16MP Front Camera</li><li class=\"rgWa7D\">5000 mAh Lithium Polymer Battery</li><li class=\"rgWa7D\">Mediatek Dimensity 1080 Processor</li><li class=\"rgWa7D\">1 Year Manufacturer Warranty for Phone and 6 Months Warranty for In the Box Accessories</li></ul></div></div>,\n",
              " <div class=\"col col-7-12\"><div class=\"_4rR01T\">realme 11 Pro+ 5G (Sunrise Beige, 256 GB)</div><div class=\"gUuXy-\"><span class=\"_1lRcqv\" id=\"productRating_LSTMOBGPU8HQPGU7HVRYDHQ4Y_MOBGPU8HQPGU7HVR_\"><div class=\"_3LWZlK\">4.3<img class=\"_1wB99o\" src=\"data:image/svg+xml;base64,PHN2ZyB4bWxucz0iaHR0cDovL3d3dy53My5vcmcvMjAwMC9zdmciIHdpZHRoPSIxMyIgaGVpZ2h0PSIxMiI+PHBhdGggZmlsbD0iI0ZGRiIgZD0iTTYuNSA5LjQzOWwtMy42NzQgMi4yMy45NC00LjI2LTMuMjEtMi44ODMgNC4yNTQtLjQwNEw2LjUuMTEybDEuNjkgNC4wMSA0LjI1NC40MDQtMy4yMSAyLjg4Mi45NCA0LjI2eiIvPjwvc3ZnPg==\"/></div></span><span class=\"_2_R_DZ\"><span><span>4,323 Ratings </span><span class=\"_13vcmD\">&amp;</span><span> 515 Reviews</span></span></span></div><div class=\"fMghEO\"><ul class=\"_1xgFaf\"><li class=\"rgWa7D\">12 GB RAM | 256 GB ROM</li><li class=\"rgWa7D\">17.02 cm (6.7 inch) Full HD+ Display</li><li class=\"rgWa7D\">200MP (OIS) + 8MP + 2MP | 32MP Front Camera</li><li class=\"rgWa7D\">5000 mAh Battery</li><li class=\"rgWa7D\">Dimensity 7050 Processor</li><li class=\"rgWa7D\">1 Year Manufacturer Warranty for Device and 6 Months Manufacturer Warranty for In-Box Accessories</li></ul></div></div>,\n",
              " <div class=\"col col-7-12\"><div class=\"_4rR01T\">realme 11 Pro+ 5G (Astral Black, 256 GB)</div><div class=\"gUuXy-\"><span class=\"_1lRcqv\" id=\"productRating_LSTMOBGPU8HRUUHYEWEOXYFS1_MOBGPU8HRUUHYEWE_\"><div class=\"_3LWZlK\">4.3<img class=\"_1wB99o\" src=\"data:image/svg+xml;base64,PHN2ZyB4bWxucz0iaHR0cDovL3d3dy53My5vcmcvMjAwMC9zdmciIHdpZHRoPSIxMyIgaGVpZ2h0PSIxMiI+PHBhdGggZmlsbD0iI0ZGRiIgZD0iTTYuNSA5LjQzOWwtMy42NzQgMi4yMy45NC00LjI2LTMuMjEtMi44ODMgNC4yNTQtLjQwNEw2LjUuMTEybDEuNjkgNC4wMSA0LjI1NC40MDQtMy4yMSAyLjg4Mi45NCA0LjI2eiIvPjwvc3ZnPg==\"/></div></span><span class=\"_2_R_DZ\"><span><span>16,429 Ratings </span><span class=\"_13vcmD\">&amp;</span><span> 1,814 Reviews</span></span></span></div><div class=\"fMghEO\"><ul class=\"_1xgFaf\"><li class=\"rgWa7D\">8 GB RAM | 256 GB ROM</li><li class=\"rgWa7D\">17.02 cm (6.7 inch) Full HD+ Display</li><li class=\"rgWa7D\">200MP (OIS) + 8MP + 2MP | 32MP Front Camera</li><li class=\"rgWa7D\">5000 mAh Battery</li><li class=\"rgWa7D\">Dimensity 7050 Processor</li><li class=\"rgWa7D\">1 Year Manufacturer Warranty for Device and 6 Months Manufacturer Warranty for In-Box Accessories</li></ul></div></div>,\n",
              " <div class=\"col col-7-12\"><div class=\"_4rR01T\">realme 11 Pro+ 5G (Sunrise Beige, 256 GB)</div><div class=\"gUuXy-\"><span class=\"_1lRcqv\" id=\"productRating_LSTMOBGPU8HQQYQN8XTJSUCKP_MOBGPU8HQQYQN8XT_\"><div class=\"_3LWZlK\">4.3<img class=\"_1wB99o\" src=\"data:image/svg+xml;base64,PHN2ZyB4bWxucz0iaHR0cDovL3d3dy53My5vcmcvMjAwMC9zdmciIHdpZHRoPSIxMyIgaGVpZ2h0PSIxMiI+PHBhdGggZmlsbD0iI0ZGRiIgZD0iTTYuNSA5LjQzOWwtMy42NzQgMi4yMy45NC00LjI2LTMuMjEtMi44ODMgNC4yNTQtLjQwNEw2LjUuMTEybDEuNjkgNC4wMSA0LjI1NC40MDQtMy4yMSAyLjg4Mi45NCA0LjI2eiIvPjwvc3ZnPg==\"/></div></span><span class=\"_2_R_DZ\"><span><span>16,429 Ratings </span><span class=\"_13vcmD\">&amp;</span><span> 1,814 Reviews</span></span></span></div><div class=\"fMghEO\"><ul class=\"_1xgFaf\"><li class=\"rgWa7D\">8 GB RAM | 256 GB ROM</li><li class=\"rgWa7D\">17.02 cm (6.7 inch) Full HD+ Display</li><li class=\"rgWa7D\">200MP (OIS) + 8MP + 2MP | 32MP Front Camera</li><li class=\"rgWa7D\">5000 mAh Battery</li><li class=\"rgWa7D\">Dimensity 7050 Processor</li><li class=\"rgWa7D\">1 Year Manufacturer Warranty for Device and 6 Months Manufacturer Warranty for In-Box Accessories</li></ul></div></div>,\n",
              " <div class=\"col col-7-12\"><div class=\"_4rR01T\">realme 11 Pro+ 5G (Astral Black, 256 GB)</div><div class=\"gUuXy-\"><span class=\"_1lRcqv\" id=\"productRating_LSTMOBGPU8HFZFVPY2AKCOEBQ_MOBGPU8HFZFVPY2A_\"><div class=\"_3LWZlK\">4.3<img class=\"_1wB99o\" src=\"data:image/svg+xml;base64,PHN2ZyB4bWxucz0iaHR0cDovL3d3dy53My5vcmcvMjAwMC9zdmciIHdpZHRoPSIxMyIgaGVpZ2h0PSIxMiI+PHBhdGggZmlsbD0iI0ZGRiIgZD0iTTYuNSA5LjQzOWwtMy42NzQgMi4yMy45NC00LjI2LTMuMjEtMi44ODMgNC4yNTQtLjQwNEw2LjUuMTEybDEuNjkgNC4wMSA0LjI1NC40MDQtMy4yMSAyLjg4Mi45NCA0LjI2eiIvPjwvc3ZnPg==\"/></div></span><span class=\"_2_R_DZ\"><span><span>4,323 Ratings </span><span class=\"_13vcmD\">&amp;</span><span> 515 Reviews</span></span></span></div><div class=\"fMghEO\"><ul class=\"_1xgFaf\"><li class=\"rgWa7D\">12 GB RAM | 256 GB ROM</li><li class=\"rgWa7D\">17.02 cm (6.7 inch) Full HD+ Display</li><li class=\"rgWa7D\">200MP (OIS) + 8MP + 2MP | 32MP Front Camera</li><li class=\"rgWa7D\">5000 mAh Battery</li><li class=\"rgWa7D\">Dimensity 7050 Processor</li><li class=\"rgWa7D\">1 Year Manufacturer Warranty for Device and 6 Months Manufacturer Warranty for In-Box Accessories</li></ul></div></div>,\n",
              " <div class=\"col col-7-12\"><div class=\"_4rR01T\">realme 11 Pro+ 5G (Oasis Green, 256 GB)</div><div class=\"gUuXy-\"><span class=\"_1lRcqv\" id=\"productRating_LSTMOBGPU8H9KVVVHMSM5WQKX_MOBGPU8H9KVVVHMS_\"><div class=\"_3LWZlK\">4.3<img class=\"_1wB99o\" src=\"data:image/svg+xml;base64,PHN2ZyB4bWxucz0iaHR0cDovL3d3dy53My5vcmcvMjAwMC9zdmciIHdpZHRoPSIxMyIgaGVpZ2h0PSIxMiI+PHBhdGggZmlsbD0iI0ZGRiIgZD0iTTYuNSA5LjQzOWwtMy42NzQgMi4yMy45NC00LjI2LTMuMjEtMi44ODMgNC4yNTQtLjQwNEw2LjUuMTEybDEuNjkgNC4wMSA0LjI1NC40MDQtMy4yMSAyLjg4Mi45NCA0LjI2eiIvPjwvc3ZnPg==\"/></div></span><span class=\"_2_R_DZ\"><span><span>16,429 Ratings </span><span class=\"_13vcmD\">&amp;</span><span> 1,814 Reviews</span></span></span></div><div class=\"fMghEO\"><ul class=\"_1xgFaf\"><li class=\"rgWa7D\">8 GB RAM | 256 GB ROM</li><li class=\"rgWa7D\">17.02 cm (6.7 inch) Full HD+ Display</li><li class=\"rgWa7D\">200MP (OIS) + 8MP + 2MP | 32MP Front Camera</li><li class=\"rgWa7D\">5000 mAh Battery</li><li class=\"rgWa7D\">Dimensity 7050 Processor</li><li class=\"rgWa7D\">1 Year Manufacturer Warranty for Device and 6 Months Manufacturer Warranty for In-Box Accessories</li></ul></div></div>,\n",
              " <div class=\"col col-7-12\"><div class=\"_4rR01T\">REDMI Note 12 Pro 5G (Stardust Purple, 256 GB)</div><div class=\"gUuXy-\"><span class=\"_1lRcqv\" id=\"productRating_LSTMOBGH2UVFMVF8PHGSDDKSJ_MOBGH2UVFMVF8PHG_\"><div class=\"_3LWZlK\">4.2<img class=\"_1wB99o\" src=\"data:image/svg+xml;base64,PHN2ZyB4bWxucz0iaHR0cDovL3d3dy53My5vcmcvMjAwMC9zdmciIHdpZHRoPSIxMyIgaGVpZ2h0PSIxMiI+PHBhdGggZmlsbD0iI0ZGRiIgZD0iTTYuNSA5LjQzOWwtMy42NzQgMi4yMy45NC00LjI2LTMuMjEtMi44ODMgNC4yNTQtLjQwNEw2LjUuMTEybDEuNjkgNC4wMSA0LjI1NC40MDQtMy4yMSAyLjg4Mi45NCA0LjI2eiIvPjwvc3ZnPg==\"/></div></span><span class=\"_2_R_DZ\"><span><span>14,028 Ratings </span><span class=\"_13vcmD\">&amp;</span><span> 1,319 Reviews</span></span></span></div><div class=\"fMghEO\"><ul class=\"_1xgFaf\"><li class=\"rgWa7D\">8 GB RAM | 256 GB ROM</li><li class=\"rgWa7D\">16.94 cm (6.67 inch) Full HD+ AMOLED Display</li><li class=\"rgWa7D\">50MP (OIS) + 8MP + 2MP | 16MP Front Camera</li><li class=\"rgWa7D\">5000 mAh Lithium Polymer Battery</li><li class=\"rgWa7D\">Mediatek Dimensity 1080 Processor</li><li class=\"rgWa7D\">1 Year Manufacturer Warranty for Phone and 6 Months Warranty for In the Box Accessories</li></ul></div></div>,\n",
              " <div class=\"col col-7-12\"><div class=\"_4rR01T\">realme 11 Pro 5G (Sunrise Beige, 256 GB)</div><div class=\"gUuXy-\"><span class=\"_1lRcqv\" id=\"productRating_LSTMOBGPUNGNFZTHKHGWTDV1H_MOBGPUNGNFZTHKHG_\"><div class=\"_3LWZlK\">4.2<img class=\"_1wB99o\" src=\"data:image/svg+xml;base64,PHN2ZyB4bWxucz0iaHR0cDovL3d3dy53My5vcmcvMjAwMC9zdmciIHdpZHRoPSIxMyIgaGVpZ2h0PSIxMiI+PHBhdGggZmlsbD0iI0ZGRiIgZD0iTTYuNSA5LjQzOWwtMy42NzQgMi4yMy45NC00LjI2LTMuMjEtMi44ODMgNC4yNTQtLjQwNEw2LjUuMTEybDEuNjkgNC4wMSA0LjI1NC40MDQtMy4yMSAyLjg4Mi45NCA0LjI2eiIvPjwvc3ZnPg==\"/></div></span><span class=\"_2_R_DZ\"><span><span>380 Ratings </span><span class=\"_13vcmD\">&amp;</span><span> 34 Reviews</span></span></span></div><div class=\"fMghEO\"><ul class=\"_1xgFaf\"><li class=\"rgWa7D\">12 GB RAM | 256 GB ROM</li><li class=\"rgWa7D\">17.02 cm (6.7 inch) Full HD+ Display</li><li class=\"rgWa7D\">100MP (OIS) + 2MP | 16MP Front Camera</li><li class=\"rgWa7D\">5000 mAh Battery</li><li class=\"rgWa7D\">Dimensity 7050 Processor</li><li class=\"rgWa7D\">1 Year Manufacturer Warranty for Device and 6 Months Manufacturer Warranty for In-Box Accessories</li></ul></div></div>,\n",
              " <div class=\"col col-7-12\"><div class=\"_4rR01T\">SAMSUNG Galaxy M33 5G (Deep Ocean Blue, 128 GB)</div><div class=\"gUuXy-\"><span class=\"_1lRcqv\" id=\"productRating_LSTMOBGHDXFZQPTVXF5G7XWL0_MOBGHDXFZQPTVXF5_\"><div class=\"_3LWZlK\">4.2<img class=\"_1wB99o\" src=\"data:image/svg+xml;base64,PHN2ZyB4bWxucz0iaHR0cDovL3d3dy53My5vcmcvMjAwMC9zdmciIHdpZHRoPSIxMyIgaGVpZ2h0PSIxMiI+PHBhdGggZmlsbD0iI0ZGRiIgZD0iTTYuNSA5LjQzOWwtMy42NzQgMi4yMy45NC00LjI2LTMuMjEtMi44ODMgNC4yNTQtLjQwNEw2LjUuMTEybDEuNjkgNC4wMSA0LjI1NC40MDQtMy4yMSAyLjg4Mi45NCA0LjI2eiIvPjwvc3ZnPg==\"/></div></span><span class=\"_2_R_DZ\"><span><span>3,501 Ratings </span><span class=\"_13vcmD\">&amp;</span><span> 243 Reviews</span></span></span></div><div class=\"fMghEO\"><ul class=\"_1xgFaf\"><li class=\"rgWa7D\">8 GB RAM | 128 GB ROM</li><li class=\"rgWa7D\">16.76 cm (6.6 inch) Display</li><li class=\"rgWa7D\">50MP Rear Camera | 8MP Front Camera</li><li class=\"rgWa7D\">6000 mAh Battery</li><li class=\"rgWa7D\">1 Year Warranty</li></ul></div></div>,\n",
              " <div class=\"col col-7-12\"><div class=\"_4rR01T\">OnePlus 10R (Forest Green, 128 GB)</div><div class=\"gUuXy-\"><span class=\"_1lRcqv\" id=\"productRating_LSTMOBGGFT7SVDZFATYB2YDDN_MOBGGFT7SVDZFATY_\"><div class=\"_3LWZlK\">4.3<img class=\"_1wB99o\" src=\"data:image/svg+xml;base64,PHN2ZyB4bWxucz0iaHR0cDovL3d3dy53My5vcmcvMjAwMC9zdmciIHdpZHRoPSIxMyIgaGVpZ2h0PSIxMiI+PHBhdGggZmlsbD0iI0ZGRiIgZD0iTTYuNSA5LjQzOWwtMy42NzQgMi4yMy45NC00LjI2LTMuMjEtMi44ODMgNC4yNTQtLjQwNEw2LjUuMTEybDEuNjkgNC4wMSA0LjI1NC40MDQtMy4yMSAyLjg4Mi45NCA0LjI2eiIvPjwvc3ZnPg==\"/></div></span><span class=\"_2_R_DZ\"><span><span>2,961 Ratings </span><span class=\"_13vcmD\">&amp;</span><span> 192 Reviews</span></span></span></div><div class=\"fMghEO\"><ul class=\"_1xgFaf\"><li class=\"rgWa7D\">8 GB RAM | 128 GB ROM</li><li class=\"rgWa7D\">17.02 cm (6.7 inch) Display</li><li class=\"rgWa7D\">50MP Rear Camera | 16MP Front Camera</li><li class=\"rgWa7D\">5000 mAh Battery</li><li class=\"rgWa7D\">1 Year Manufacturer Warranty for Handset and 6 Months Warranty for In the Box Accessories</li></ul></div></div>,\n",
              " <div class=\"col col-7-12\"><div class=\"_4rR01T\">REDMI Note 12 Pro 5G (Onyx Black, 256 GB)</div><div class=\"gUuXy-\"><span class=\"_1lRcqv\" id=\"productRating_LSTMOBGH2UVYCGSCPYTIJE8EN_MOBGH2UVYCGSCPYT_\"><div class=\"_3LWZlK\">4.2<img class=\"_1wB99o\" src=\"data:image/svg+xml;base64,PHN2ZyB4bWxucz0iaHR0cDovL3d3dy53My5vcmcvMjAwMC9zdmciIHdpZHRoPSIxMyIgaGVpZ2h0PSIxMiI+PHBhdGggZmlsbD0iI0ZGRiIgZD0iTTYuNSA5LjQzOWwtMy42NzQgMi4yMy45NC00LjI2LTMuMjEtMi44ODMgNC4yNTQtLjQwNEw2LjUuMTEybDEuNjkgNC4wMSA0LjI1NC40MDQtMy4yMSAyLjg4Mi45NCA0LjI2eiIvPjwvc3ZnPg==\"/></div></span><span class=\"_2_R_DZ\"><span><span>14,028 Ratings </span><span class=\"_13vcmD\">&amp;</span><span> 1,319 Reviews</span></span></span></div><div class=\"fMghEO\"><ul class=\"_1xgFaf\"><li class=\"rgWa7D\">8 GB RAM | 256 GB ROM</li><li class=\"rgWa7D\">16.94 cm (6.67 inch) Full HD+ AMOLED Display</li><li class=\"rgWa7D\">50MP (OIS) + 8MP + 2MP | 16MP Front Camera</li><li class=\"rgWa7D\">5000 mAh Lithium Polymer Battery</li><li class=\"rgWa7D\">Mediatek Dimensity 1080 Processor</li><li class=\"rgWa7D\">1 Year Manufacturer Warranty for Phone and 6 Months Warranty for In the Box Accessories</li></ul></div></div>,\n",
              " <div class=\"col col-7-12\"><div class=\"_4rR01T\">POCO F5 5G (Snowstorm White, 256 GB)</div><div class=\"gUuXy-\"><span class=\"_1lRcqv\" id=\"productRating_LSTMOBGP2G5BFATCJXHYWDCSJ_MOBGP2G5BFATCJXH_\"><div class=\"_3LWZlK\">4.3<img class=\"_1wB99o\" src=\"data:image/svg+xml;base64,PHN2ZyB4bWxucz0iaHR0cDovL3d3dy53My5vcmcvMjAwMC9zdmciIHdpZHRoPSIxMyIgaGVpZ2h0PSIxMiI+PHBhdGggZmlsbD0iI0ZGRiIgZD0iTTYuNSA5LjQzOWwtMy42NzQgMi4yMy45NC00LjI2LTMuMjEtMi44ODMgNC4yNTQtLjQwNEw2LjUuMTEybDEuNjkgNC4wMSA0LjI1NC40MDQtMy4yMSAyLjg4Mi45NCA0LjI2eiIvPjwvc3ZnPg==\"/></div></span><span class=\"_2_R_DZ\"><span><span>5,332 Ratings </span><span class=\"_13vcmD\">&amp;</span><span> 784 Reviews</span></span></span></div><div class=\"fMghEO\"><ul class=\"_1xgFaf\"><li class=\"rgWa7D\">8 GB RAM | 256 GB ROM</li><li class=\"rgWa7D\">16.94 cm (6.67 inch) Full HD+ Display</li><li class=\"rgWa7D\">64MP (OIS) + 8MP + 2MP | 16MP Front Camera</li><li class=\"rgWa7D\">5000 mAh Battery</li><li class=\"rgWa7D\">Qualcomm Snapdragon 7+ Gen 2 (4nm) Processor</li><li class=\"rgWa7D\">2 Year Manufacturer Warranty for Phone and 6 Months Warranty for In the Box Accessories</li></ul></div></div>,\n",
              " <div class=\"col col-7-12\"><div class=\"_4rR01T\">OnePlus 10R (Sierra Black, 128 GB)</div><div class=\"gUuXy-\"><span class=\"_1lRcqv\" id=\"productRating_LSTMOBGHBNGX9ZK6HQVV7AQQD_MOBGHBNGX9ZK6HQV_\"><div class=\"_3LWZlK\">4.3<img class=\"_1wB99o\" src=\"data:image/svg+xml;base64,PHN2ZyB4bWxucz0iaHR0cDovL3d3dy53My5vcmcvMjAwMC9zdmciIHdpZHRoPSIxMyIgaGVpZ2h0PSIxMiI+PHBhdGggZmlsbD0iI0ZGRiIgZD0iTTYuNSA5LjQzOWwtMy42NzQgMi4yMy45NC00LjI2LTMuMjEtMi44ODMgNC4yNTQtLjQwNEw2LjUuMTEybDEuNjkgNC4wMSA0LjI1NC40MDQtMy4yMSAyLjg4Mi45NCA0LjI2eiIvPjwvc3ZnPg==\"/></div></span><span class=\"_2_R_DZ\"><span><span>2,961 Ratings </span><span class=\"_13vcmD\">&amp;</span><span> 192 Reviews</span></span></span></div><div class=\"fMghEO\"><ul class=\"_1xgFaf\"><li class=\"rgWa7D\">8 GB RAM | 128 GB ROM</li><li class=\"rgWa7D\">17.02 cm (6.7 inch) Display</li><li class=\"rgWa7D\">50MP Rear Camera | 16MP Front Camera</li><li class=\"rgWa7D\">5000 mAh Battery</li><li class=\"rgWa7D\">1 Year Manufacturer Warranty for Handset and 6 Months Warranty for In the Box Accessories</li></ul></div></div>,\n",
              " <div class=\"col col-7-12\"><div class=\"_4rR01T\">REDMI Note 12 Pro+ 5G (Obsidian Black, 256 GB)</div><div class=\"gUuXy-\"><span class=\"_1lRcqv\" id=\"productRating_LSTMOBGH2UVUGR9N5FWMEJHWA_MOBGH2UVUGR9N5FW_\"><div class=\"_3LWZlK\">4.3<img class=\"_1wB99o\" src=\"data:image/svg+xml;base64,PHN2ZyB4bWxucz0iaHR0cDovL3d3dy53My5vcmcvMjAwMC9zdmciIHdpZHRoPSIxMyIgaGVpZ2h0PSIxMiI+PHBhdGggZmlsbD0iI0ZGRiIgZD0iTTYuNSA5LjQzOWwtMy42NzQgMi4yMy45NC00LjI2LTMuMjEtMi44ODMgNC4yNTQtLjQwNEw2LjUuMTEybDEuNjkgNC4wMSA0LjI1NC40MDQtMy4yMSAyLjg4Mi45NCA0LjI2eiIvPjwvc3ZnPg==\"/></div></span><span class=\"_2_R_DZ\"><span><span>13,790 Ratings </span><span class=\"_13vcmD\">&amp;</span><span> 1,442 Reviews</span></span></span></div><div class=\"fMghEO\"><ul class=\"_1xgFaf\"><li class=\"rgWa7D\">8 GB RAM | 256 GB ROM</li><li class=\"rgWa7D\">16.94 cm (6.67 inch) Full HD+ AMOLED Display</li><li class=\"rgWa7D\">200MP + 8MP + 2MP | 16MP Front Camera</li><li class=\"rgWa7D\">4980 mAh Lithium Polymer Battery</li><li class=\"rgWa7D\">Mediatek Dimensity 1080 Processor</li><li class=\"rgWa7D\">1 Year Manufacturer Warranty for Phone and 6 Months Warranty for In the Box Accessories</li></ul></div></div>,\n",
              " <div class=\"col col-7-12\"><div class=\"_4rR01T\">REDMI Note 12 Pro+ 5G (Arctic White, 256 GB)</div><div class=\"gUuXy-\"><span class=\"_1lRcqv\" id=\"productRating_LSTMOBGH2UVGHVFKYFFXUZARK_MOBGH2UVGHVFKYFF_\"><div class=\"_3LWZlK\">4.3<img class=\"_1wB99o\" src=\"data:image/svg+xml;base64,PHN2ZyB4bWxucz0iaHR0cDovL3d3dy53My5vcmcvMjAwMC9zdmciIHdpZHRoPSIxMyIgaGVpZ2h0PSIxMiI+PHBhdGggZmlsbD0iI0ZGRiIgZD0iTTYuNSA5LjQzOWwtMy42NzQgMi4yMy45NC00LjI2LTMuMjEtMi44ODMgNC4yNTQtLjQwNEw2LjUuMTEybDEuNjkgNC4wMSA0LjI1NC40MDQtMy4yMSAyLjg4Mi45NCA0LjI2eiIvPjwvc3ZnPg==\"/></div></span><span class=\"_2_R_DZ\"><span><span>13,790 Ratings </span><span class=\"_13vcmD\">&amp;</span><span> 1,442 Reviews</span></span></span></div><div class=\"fMghEO\"><ul class=\"_1xgFaf\"><li class=\"rgWa7D\">8 GB RAM | 256 GB ROM</li><li class=\"rgWa7D\">16.94 cm (6.67 inch) Full HD+ AMOLED Display</li><li class=\"rgWa7D\">200MP + 8MP + 2MP | 16MP Front Camera</li><li class=\"rgWa7D\">4980 mAh Lithium Polymer Battery</li><li class=\"rgWa7D\">Mediatek Dimensity 1080 Processor</li><li class=\"rgWa7D\">1 Year Manufacturer Warranty for Phone and 6 Months Warranty for In the Box Accessories</li></ul></div></div>,\n",
              " <div class=\"col col-7-12\"><div class=\"_4rR01T\">POCO F5 5G (Snowstorm White, 256 GB)</div><div class=\"gUuXy-\"><span class=\"_1lRcqv\" id=\"productRating_LSTMOBGP2G5RUW9A4RCNVR7MR_MOBGP2G5RUW9A4RC_\"><div class=\"_3LWZlK\">4.2<img class=\"_1wB99o\" src=\"data:image/svg+xml;base64,PHN2ZyB4bWxucz0iaHR0cDovL3d3dy53My5vcmcvMjAwMC9zdmciIHdpZHRoPSIxMyIgaGVpZ2h0PSIxMiI+PHBhdGggZmlsbD0iI0ZGRiIgZD0iTTYuNSA5LjQzOWwtMy42NzQgMi4yMy45NC00LjI2LTMuMjEtMi44ODMgNC4yNTQtLjQwNEw2LjUuMTEybDEuNjkgNC4wMSA0LjI1NC40MDQtMy4yMSAyLjg4Mi45NCA0LjI2eiIvPjwvc3ZnPg==\"/></div></span><span class=\"_2_R_DZ\"><span><span>994 Ratings </span><span class=\"_13vcmD\">&amp;</span><span> 142 Reviews</span></span></span></div><div class=\"fMghEO\"><ul class=\"_1xgFaf\"><li class=\"rgWa7D\">12 GB RAM | 256 GB ROM</li><li class=\"rgWa7D\">16.94 cm (6.67 inch) Full HD+ Display</li><li class=\"rgWa7D\">64MP (OIS) + 8MP + 2MP | 16MP Front Camera</li><li class=\"rgWa7D\">5000 mAh Battery</li><li class=\"rgWa7D\">Qualcomm Snapdragon 7+ Gen 2 (4nm) Processor</li><li class=\"rgWa7D\">2 Year Manufacturer Warranty for Phone and 6 Months Warranty for In the Box Accessories</li></ul></div></div>,\n",
              " <div class=\"col col-7-12\"><div class=\"_4rR01T\">POCO F5 5G (Carbon Black, 256 GB)</div><div class=\"gUuXy-\"><span class=\"_1lRcqv\" id=\"productRating_LSTMOBGP2G52Z3RS2ZEICPEZ3_MOBGP2G52Z3RS2ZE_\"><div class=\"_3LWZlK\">4.3<img class=\"_1wB99o\" src=\"data:image/svg+xml;base64,PHN2ZyB4bWxucz0iaHR0cDovL3d3dy53My5vcmcvMjAwMC9zdmciIHdpZHRoPSIxMyIgaGVpZ2h0PSIxMiI+PHBhdGggZmlsbD0iI0ZGRiIgZD0iTTYuNSA5LjQzOWwtMy42NzQgMi4yMy45NC00LjI2LTMuMjEtMi44ODMgNC4yNTQtLjQwNEw2LjUuMTEybDEuNjkgNC4wMSA0LjI1NC40MDQtMy4yMSAyLjg4Mi45NCA0LjI2eiIvPjwvc3ZnPg==\"/></div></span><span class=\"_2_R_DZ\"><span><span>5,332 Ratings </span><span class=\"_13vcmD\">&amp;</span><span> 784 Reviews</span></span></span></div><div class=\"fMghEO\"><ul class=\"_1xgFaf\"><li class=\"rgWa7D\">8 GB RAM | 256 GB ROM</li><li class=\"rgWa7D\">16.94 cm (6.67 inch) Full HD+ Display</li><li class=\"rgWa7D\">64MP (OIS) + 8MP + 2MP | 16MP Front Camera</li><li class=\"rgWa7D\">5000 mAh Battery</li><li class=\"rgWa7D\">Qualcomm Snapdragon 7+ Gen 2 (4nm) Processor</li><li class=\"rgWa7D\">2 Year Manufacturer Warranty for Phone and 6 Months Warranty for In the Box Accessories</li></ul></div></div>]"
            ]
          },
          "execution_count": 4,
          "metadata": {},
          "output_type": "execute_result"
        }
      ],
      "source": [
        "# Extracting each division\n",
        "lists = soup.find_all(\"div\", class_=\"col col-7-12\")\n",
        "lists"
      ]
    },
    {
      "cell_type": "code",
      "execution_count": 5,
      "metadata": {
        "id": "_1dx-IYFX0L3"
      },
      "outputs": [],
      "source": [
        "# Extracting smartphones features\n",
        "product_list = []\n",
        "\n",
        "for list in lists:\n",
        "  title = list.find('div', class_=\"_4rR01T\").text.strip()\n",
        "  brand = title.split()[0]\n",
        "  ratings = list.find('div', class_=\"_3LWZlK\").text\n",
        "\n",
        "  ratings_n_reviews = list.find('span', class_=\"_2_R_DZ\").text\n",
        "  number_of_ratings = ratings_n_reviews.split()[0].strip()\n",
        "  number_of_reviews = ratings_n_reviews.split()[-2].strip()\n",
        "\n",
        "  desc = list.find_all('li', class_=\"rgWa7D\")\n",
        "  storage = desc[0].text.strip()\n",
        "  camera = desc[2].text.strip()\n",
        "  battery = desc[3].text.strip()\n",
        "\n",
        "  product_list.append([brand, title, storage, camera, battery, number_of_ratings, ratings, number_of_reviews])\n"
      ]
    },
    {
      "cell_type": "code",
      "execution_count": 6,
      "metadata": {
        "colab": {
          "base_uri": "https://localhost:8080/"
        },
        "id": "gdXnFiX3oD77",
        "outputId": "1b696c79-19d0-4b7e-9950-dfe9c08298c3"
      },
      "outputs": [
        {
          "data": {
            "text/plain": [
              "[['MOTOROLA',\n",
              "  'MOTOROLA Edge 40 (Nebula Green, 256 GB)',\n",
              "  '8 GB RAM | 256 GB ROM',\n",
              "  '50MP + 13MP | 32MP Front Camera',\n",
              "  '4400 mAh Battery',\n",
              "  '12,911',\n",
              "  '4.2',\n",
              "  '2,087'],\n",
              " ['POCO',\n",
              "  'POCO X5 Pro 5G (Horizon Blue, 256 GB)',\n",
              "  '8 GB RAM | 256 GB ROM',\n",
              "  '108MP + 8MP + 2MP | 16MP Front Camera',\n",
              "  '5000 mAh Battery',\n",
              "  '11,541',\n",
              "  '4.3',\n",
              "  '1,173'],\n",
              " ['REDMI',\n",
              "  'REDMI Note 12 Pro 5G (Glacier Blue, 128 GB)',\n",
              "  '6 GB RAM | 128 GB ROM',\n",
              "  '50MP (OIS) + 8MP + 2MP | 16MP Front Camera',\n",
              "  '5000 mAh Lithium Polymer Battery',\n",
              "  '28,790',\n",
              "  '4.2',\n",
              "  '2,780']]"
            ]
          },
          "execution_count": 6,
          "metadata": {},
          "output_type": "execute_result"
        }
      ],
      "source": [
        "product_list[:3]"
      ]
    },
    {
      "cell_type": "code",
      "execution_count": 7,
      "metadata": {
        "colab": {
          "base_uri": "https://localhost:8080/"
        },
        "id": "yPfzmr_cjjrp",
        "outputId": "f0352b98-4387-411b-cd29-4329ccc6df6b"
      },
      "outputs": [
        {
          "name": "stdout",
          "output_type": "stream",
          "text": [
            "[<div class=\"col col-5-12 nlI3QM\"><div class=\"_3tbKJL\"><div class=\"_25b18c\"><div class=\"_30jeq3 _1_WHN1\">₹29,999</div><div class=\"_3I9_wc _27UcVY\">₹<!-- -->34,999</div><div class=\"_3Ay6Sb\"><span>14% off</span></div></div></div><div class=\"_13J9qT\"><img height=\"21\" src=\"//static-assets-web.flixcart.com/fk-p-linchpin-web/fk-cp-zion/img/fa_62673a.png\"/></div></div>, <div class=\"col col-5-12 nlI3QM\"><div class=\"_3tbKJL\"><div class=\"_25b18c\"><div class=\"_30jeq3 _1_WHN1\">₹21,999</div><div class=\"_3I9_wc _27UcVY\">₹<!-- -->28,999</div><div class=\"_3Ay6Sb\"><span>24% off</span></div></div><div class=\"_3tcB5a p8ucoS\"><div><div class=\"_2Tpdn3\" style=\"color:#000000;font-size:12px;font-weight:400\">Free delivery by</div><div class=\"_2Tpdn3\" style=\"color:#000000;font-size:12px;font-style:normal;font-weight:700\"> Today</div></div></div></div><div class=\"_13J9qT\"><img height=\"21\" src=\"//static-assets-web.flixcart.com/fk-p-linchpin-web/fk-cp-zion/img/fa_62673a.png\"/></div><div class=\"_2ZdXDB\"><div class=\"_3xFhiH\"><div class=\"_2Tpdn3 _18hQoS\" style=\"color:#26A541;font-size:12px;font-weight:700\">Lowest price since launch</div></div></div><div class=\"_2ZdXDB\"><div class=\"_3xFhiH\"><div class=\"_2Tpdn3 _18hQoS\" style=\"color:#000000;font-size:14px;font-style:normal;font-weight:400\">Upto </div><div class=\"_2Tpdn3 _18hQoS\" style=\"color:#000000;font-size:14px;font-style:normal;font-weight:700\">₹21,100</div><div class=\"_2Tpdn3 _18hQoS\" style=\"color:#000000;font-size:14px;font-style:normal;font-weight:400\"> Off on Exchange</div></div></div></div>, <div class=\"col col-5-12 nlI3QM\"><div class=\"_3tbKJL\"><div class=\"_25b18c\"><div class=\"_30jeq3 _1_WHN1\">₹23,999</div><div class=\"_3I9_wc _27UcVY\">₹<!-- -->27,999</div><div class=\"_3Ay6Sb\"><span>14% off</span></div></div><div class=\"_3tcB5a p8ucoS\"><div><div class=\"_2Tpdn3\" style=\"color:#000000;font-size:12px;font-weight:400\">Free delivery by</div><div class=\"_2Tpdn3\" style=\"color:#000000;font-size:12px;font-style:normal;font-weight:700\"> Today</div></div></div></div><div class=\"_13J9qT\"><img height=\"21\" src=\"//static-assets-web.flixcart.com/fk-p-linchpin-web/fk-cp-zion/img/fa_62673a.png\"/></div><div class=\"_2ZdXDB\"><div class=\"_3xFhiH\"><div class=\"_2Tpdn3 _18hQoS\" style=\"color:#26A541;font-size:12px;font-weight:700\">Daily Saver</div></div></div><div class=\"_2ZdXDB\"><div class=\"_3xFhiH\"><div class=\"_2Tpdn3 _18hQoS\" style=\"color:#000000;font-size:14px;font-style:normal;font-weight:400\">Upto </div><div class=\"_2Tpdn3 _18hQoS\" style=\"color:#000000;font-size:14px;font-style:normal;font-weight:700\">₹22,150</div><div class=\"_2Tpdn3 _18hQoS\" style=\"color:#000000;font-size:14px;font-style:normal;font-weight:400\"> Off on Exchange</div></div></div></div>, <div class=\"col col-5-12 nlI3QM\"><div class=\"_3tbKJL\"><div class=\"_25b18c\"><div class=\"_30jeq3 _1_WHN1\">₹23,999</div><div class=\"_3I9_wc _27UcVY\">₹<!-- -->27,999</div><div class=\"_3Ay6Sb\"><span>14% off</span></div></div><div class=\"_3tcB5a p8ucoS\"><div><div class=\"_2Tpdn3\" style=\"color:#000000;font-size:12px;font-weight:400\">Free delivery by</div><div class=\"_2Tpdn3\" style=\"color:#000000;font-size:12px;font-style:normal;font-weight:700\"> Today</div></div></div></div><div class=\"_13J9qT\"><img height=\"21\" src=\"//static-assets-web.flixcart.com/fk-p-linchpin-web/fk-cp-zion/img/fa_62673a.png\"/></div><div class=\"_2ZdXDB\"><div class=\"_3xFhiH\"><div class=\"_2Tpdn3 _18hQoS\" style=\"color:#26A541;font-size:12px;font-weight:700\">Daily Saver</div></div></div><div class=\"_2ZdXDB\"><div class=\"_3xFhiH\"><div class=\"_2Tpdn3 _18hQoS\" style=\"color:#000000;font-size:14px;font-style:normal;font-weight:400\">Upto </div><div class=\"_2Tpdn3 _18hQoS\" style=\"color:#000000;font-size:14px;font-style:normal;font-weight:700\">₹22,150</div><div class=\"_2Tpdn3 _18hQoS\" style=\"color:#000000;font-size:14px;font-style:normal;font-weight:400\"> Off on Exchange</div></div></div></div>, <div class=\"col col-5-12 nlI3QM\"><div class=\"_3tbKJL\"><div class=\"_25b18c\"><div class=\"_30jeq3 _1_WHN1\">₹24,999</div><div class=\"_3I9_wc _27UcVY\">₹<!-- -->29,999</div><div class=\"_3Ay6Sb\"><span>16% off</span></div></div><div class=\"_3tcB5a p8ucoS\"><div><div class=\"_2Tpdn3\" style=\"color:#000000;font-size:12px;font-weight:400\">Free delivery by</div><div class=\"_2Tpdn3\" style=\"color:#000000;font-size:12px;font-style:normal;font-weight:700\"> Today</div></div></div></div><div class=\"_13J9qT\"><img height=\"21\" src=\"//static-assets-web.flixcart.com/fk-p-linchpin-web/fk-cp-zion/img/fa_62673a.png\"/></div><div class=\"_2ZdXDB\"><div class=\"_3xFhiH\"><div class=\"_2Tpdn3 _18hQoS\" style=\"color:#000000;font-size:14px;font-style:normal;font-weight:400\">Upto </div><div class=\"_2Tpdn3 _18hQoS\" style=\"color:#000000;font-size:14px;font-style:normal;font-weight:700\">₹22,850</div><div class=\"_2Tpdn3 _18hQoS\" style=\"color:#000000;font-size:14px;font-style:normal;font-weight:400\"> Off on Exchange</div></div></div><div class=\"_2ZdXDB\"><div class=\"_3xFhiH\"><div class=\"_2Tpdn3 _18hQoS\" style=\"color:#000000;font-size:12px;font-weight:400\">No Cost EMI from ₹4,167/month</div></div></div></div>, <div class=\"col col-5-12 nlI3QM\"><div class=\"_3tbKJL\"><div class=\"_25b18c\"><div class=\"_30jeq3 _1_WHN1\">₹23,999</div><div class=\"_3I9_wc _27UcVY\">₹<!-- -->27,999</div><div class=\"_3Ay6Sb\"><span>14% off</span></div></div><div class=\"_3tcB5a p8ucoS\"><div><div class=\"_2Tpdn3\" style=\"color:#000000;font-size:12px;font-weight:400\">Free delivery by</div><div class=\"_2Tpdn3\" style=\"color:#000000;font-size:12px;font-style:normal;font-weight:700\"> Today</div></div></div></div><div class=\"_13J9qT\"><img height=\"21\" src=\"//static-assets-web.flixcart.com/fk-p-linchpin-web/fk-cp-zion/img/fa_62673a.png\"/></div><div class=\"_2ZdXDB\"><div class=\"_3xFhiH\"><div class=\"_2Tpdn3 _18hQoS\" style=\"color:#26A541;font-size:12px;font-weight:700\">Daily Saver</div></div></div><div class=\"_2ZdXDB\"><div class=\"_3xFhiH\"><div class=\"_2Tpdn3 _18hQoS\" style=\"color:#000000;font-size:14px;font-style:normal;font-weight:400\">Upto </div><div class=\"_2Tpdn3 _18hQoS\" style=\"color:#000000;font-size:14px;font-style:normal;font-weight:700\">₹22,150</div><div class=\"_2Tpdn3 _18hQoS\" style=\"color:#000000;font-size:14px;font-style:normal;font-weight:400\"> Off on Exchange</div></div></div></div>, <div class=\"col col-5-12 nlI3QM\"><div class=\"_3tbKJL\"><div class=\"_25b18c\"><div class=\"_30jeq3 _1_WHN1\">₹29,999</div><div class=\"_3I9_wc _27UcVY\">₹<!-- -->32,999</div><div class=\"_3Ay6Sb\"><span>9% off</span></div></div></div><div class=\"_13J9qT\"><img height=\"21\" src=\"//static-assets-web.flixcart.com/fk-p-linchpin-web/fk-cp-zion/img/fa_62673a.png\"/></div></div>, <div class=\"col col-5-12 nlI3QM\"><div class=\"_3tbKJL\"><div class=\"_25b18c\"><div class=\"_30jeq3 _1_WHN1\">₹26,999</div><div class=\"_3I9_wc _27UcVY\">₹<!-- -->31,999</div><div class=\"_3Ay6Sb\"><span>15% off</span></div></div><div class=\"_3tcB5a p8ucoS\"><div><div class=\"_2Tpdn3\" style=\"color:#000000;font-size:12px;font-weight:400\">Free delivery by</div><div class=\"_2Tpdn3\" style=\"color:#000000;font-size:12px;font-style:normal;font-weight:700\"> Today</div></div></div></div><div class=\"_13J9qT\"><img height=\"21\" src=\"//static-assets-web.flixcart.com/fk-p-linchpin-web/fk-cp-zion/img/fa_62673a.png\"/></div><div class=\"_2ZdXDB\"><div class=\"_3xFhiH\"><div class=\"_2Tpdn3 _18hQoS\" style=\"color:#000000;font-size:14px;font-style:normal;font-weight:400\">Upto </div><div class=\"_2Tpdn3 _18hQoS\" style=\"color:#000000;font-size:14px;font-style:normal;font-weight:700\">₹25,100</div><div class=\"_2Tpdn3 _18hQoS\" style=\"color:#000000;font-size:14px;font-style:normal;font-weight:400\"> Off on Exchange</div></div></div><div class=\"_2ZdXDB\"><div class=\"_3xFhiH\"><div class=\"_2Tpdn3 _18hQoS\" style=\"color:#000000;font-size:12px;font-weight:400\">No Cost EMI from ₹3,000/month</div></div></div></div>, <div class=\"col col-5-12 nlI3QM\"><div class=\"_3tbKJL\"><div class=\"_25b18c\"><div class=\"_30jeq3 _1_WHN1\">₹29,999</div><div class=\"_3I9_wc _27UcVY\">₹<!-- -->32,999</div><div class=\"_3Ay6Sb\"><span>9% off</span></div></div><div class=\"_3tcB5a p8ucoS\"><div><div class=\"_2Tpdn3\" style=\"color:#000000;font-size:12px;font-weight:400\">Free delivery by</div><div class=\"_2Tpdn3\" style=\"color:#000000;font-size:12px;font-style:normal;font-weight:700\"> Today</div></div></div></div><div class=\"_13J9qT\"><img height=\"21\" src=\"//static-assets-web.flixcart.com/fk-p-linchpin-web/fk-cp-zion/img/fa_62673a.png\"/></div><div class=\"_2ZdXDB\"><div class=\"_3xFhiH\"><div class=\"_2Tpdn3 _18hQoS\" style=\"color:#000000;font-size:14px;font-style:normal;font-weight:400\">Upto </div><div class=\"_2Tpdn3 _18hQoS\" style=\"color:#000000;font-size:14px;font-style:normal;font-weight:700\">₹26,700</div><div class=\"_2Tpdn3 _18hQoS\" style=\"color:#000000;font-size:14px;font-style:normal;font-weight:400\"> Off on Exchange</div></div></div><div class=\"_2ZdXDB\"><div class=\"_3xFhiH\"><div class=\"_2Tpdn3 _18hQoS\" style=\"color:#000000;font-size:12px;font-weight:400\">No Cost EMI from ₹5,000/month</div></div></div></div>, <div class=\"col col-5-12 nlI3QM\"><div class=\"_3tbKJL\"><div class=\"_25b18c\"><div class=\"_30jeq3 _1_WHN1\">₹27,999</div><div class=\"_3I9_wc _27UcVY\">₹<!-- -->29,999</div><div class=\"_3Ay6Sb\"><span>6% off</span></div></div><div class=\"_3tcB5a p8ucoS\"><div><div class=\"_2Tpdn3\" style=\"color:#000000;font-size:12px;font-weight:400\">Free delivery by</div><div class=\"_2Tpdn3\" style=\"color:#000000;font-size:12px;font-style:normal;font-weight:700\"> Today</div></div></div></div><div class=\"_13J9qT\"><img height=\"21\" src=\"//static-assets-web.flixcart.com/fk-p-linchpin-web/fk-cp-zion/img/fa_62673a.png\"/></div><div class=\"_2ZdXDB\"><div class=\"_3xFhiH\"><div class=\"_2Tpdn3 _18hQoS\" style=\"color:#000000;font-size:14px;font-style:normal;font-weight:400\">Upto </div><div class=\"_2Tpdn3 _18hQoS\" style=\"color:#000000;font-size:14px;font-style:normal;font-weight:700\">₹27,350</div><div class=\"_2Tpdn3 _18hQoS\" style=\"color:#000000;font-size:14px;font-style:normal;font-weight:400\"> Off on Exchange</div></div></div><div class=\"_2ZdXDB\"><div class=\"_3xFhiH\"><div class=\"_2Tpdn3 _18hQoS\" style=\"color:#000000;font-size:12px;font-weight:400\">No Cost EMI from ₹4,667/month</div></div></div></div>, <div class=\"col col-5-12 nlI3QM\"><div class=\"_3tbKJL\"><div class=\"_25b18c\"><div class=\"_30jeq3 _1_WHN1\">₹27,999</div><div class=\"_3I9_wc _27UcVY\">₹<!-- -->29,999</div><div class=\"_3Ay6Sb\"><span>6% off</span></div></div><div class=\"_3tcB5a p8ucoS\"><div><div class=\"_2Tpdn3\" style=\"color:#000000;font-size:12px;font-weight:400\">Free delivery by</div><div class=\"_2Tpdn3\" style=\"color:#000000;font-size:12px;font-style:normal;font-weight:700\"> Today</div></div></div></div><div class=\"_13J9qT\"><img height=\"21\" src=\"//static-assets-web.flixcart.com/fk-p-linchpin-web/fk-cp-zion/img/fa_62673a.png\"/></div><div class=\"_2ZdXDB\"><div class=\"_3xFhiH\"><div class=\"_2Tpdn3 _18hQoS\" style=\"color:#000000;font-size:14px;font-style:normal;font-weight:400\">Upto </div><div class=\"_2Tpdn3 _18hQoS\" style=\"color:#000000;font-size:14px;font-style:normal;font-weight:700\">₹27,350</div><div class=\"_2Tpdn3 _18hQoS\" style=\"color:#000000;font-size:14px;font-style:normal;font-weight:400\"> Off on Exchange</div></div></div><div class=\"_2ZdXDB\"><div class=\"_3xFhiH\"><div class=\"_2Tpdn3 _18hQoS\" style=\"color:#000000;font-size:12px;font-weight:400\">No Cost EMI from ₹4,667/month</div></div></div></div>, <div class=\"col col-5-12 nlI3QM\"><div class=\"_3tbKJL\"><div class=\"_25b18c\"><div class=\"_30jeq3 _1_WHN1\">₹29,999</div><div class=\"_3I9_wc _27UcVY\">₹<!-- -->32,999</div><div class=\"_3Ay6Sb\"><span>9% off</span></div></div><div class=\"_3tcB5a p8ucoS\"><div><div class=\"_2Tpdn3\" style=\"color:#000000;font-size:12px;font-weight:400\">Free delivery by</div><div class=\"_2Tpdn3\" style=\"color:#000000;font-size:12px;font-style:normal;font-weight:700\"> Today</div></div></div></div><div class=\"_13J9qT\"><img height=\"21\" src=\"//static-assets-web.flixcart.com/fk-p-linchpin-web/fk-cp-zion/img/fa_62673a.png\"/></div><div class=\"_2ZdXDB\"><div class=\"_3xFhiH\"><div class=\"_2Tpdn3 _18hQoS\" style=\"color:#000000;font-size:14px;font-style:normal;font-weight:400\">Upto </div><div class=\"_2Tpdn3 _18hQoS\" style=\"color:#000000;font-size:14px;font-style:normal;font-weight:700\">₹26,700</div><div class=\"_2Tpdn3 _18hQoS\" style=\"color:#000000;font-size:14px;font-style:normal;font-weight:400\"> Off on Exchange</div></div></div><div class=\"_2ZdXDB\"><div class=\"_3xFhiH\"><div class=\"_2Tpdn3 _18hQoS\" style=\"color:#000000;font-size:12px;font-weight:400\">No Cost EMI from ₹5,000/month</div></div></div></div>, <div class=\"col col-5-12 nlI3QM\"><div class=\"_3tbKJL\"><div class=\"_25b18c\"><div class=\"_30jeq3 _1_WHN1\">₹27,999</div><div class=\"_3I9_wc _27UcVY\">₹<!-- -->29,999</div><div class=\"_3Ay6Sb\"><span>6% off</span></div></div><div class=\"_3tcB5a p8ucoS\"><div><div class=\"_2Tpdn3\" style=\"color:#000000;font-size:12px;font-weight:400\">Free delivery by</div><div class=\"_2Tpdn3\" style=\"color:#000000;font-size:12px;font-style:normal;font-weight:700\"> Today</div></div></div></div><div class=\"_13J9qT\"><img height=\"21\" src=\"//static-assets-web.flixcart.com/fk-p-linchpin-web/fk-cp-zion/img/fa_62673a.png\"/></div><div class=\"_2ZdXDB\"><div class=\"_3xFhiH\"><div class=\"_2Tpdn3 _18hQoS\" style=\"color:#000000;font-size:14px;font-style:normal;font-weight:400\">Upto </div><div class=\"_2Tpdn3 _18hQoS\" style=\"color:#000000;font-size:14px;font-style:normal;font-weight:700\">₹27,350</div><div class=\"_2Tpdn3 _18hQoS\" style=\"color:#000000;font-size:14px;font-style:normal;font-weight:400\"> Off on Exchange</div></div></div><div class=\"_2ZdXDB\"><div class=\"_3xFhiH\"><div class=\"_2Tpdn3 _18hQoS\" style=\"color:#000000;font-size:12px;font-weight:400\">No Cost EMI from ₹4,667/month</div></div></div></div>, <div class=\"col col-5-12 nlI3QM\"><div class=\"_3tbKJL\"><div class=\"_25b18c\"><div class=\"_30jeq3 _1_WHN1\">₹26,999</div><div class=\"_3I9_wc _27UcVY\">₹<!-- -->31,999</div><div class=\"_3Ay6Sb\"><span>15% off</span></div></div><div class=\"_3tcB5a p8ucoS\"><div><div class=\"_2Tpdn3\" style=\"color:#000000;font-size:12px;font-weight:400\">Free delivery by</div><div class=\"_2Tpdn3\" style=\"color:#000000;font-size:12px;font-style:normal;font-weight:700\"> Today</div></div></div></div><div class=\"_13J9qT\"><img height=\"21\" src=\"//static-assets-web.flixcart.com/fk-p-linchpin-web/fk-cp-zion/img/fa_62673a.png\"/></div><div class=\"_2ZdXDB\"><div class=\"_3xFhiH\"><div class=\"_2Tpdn3 _18hQoS\" style=\"color:#000000;font-size:14px;font-style:normal;font-weight:400\">Upto </div><div class=\"_2Tpdn3 _18hQoS\" style=\"color:#000000;font-size:14px;font-style:normal;font-weight:700\">₹25,100</div><div class=\"_2Tpdn3 _18hQoS\" style=\"color:#000000;font-size:14px;font-style:normal;font-weight:400\"> Off on Exchange</div></div></div><div class=\"_2ZdXDB\"><div class=\"_3xFhiH\"><div class=\"_2Tpdn3 _18hQoS\" style=\"color:#000000;font-size:12px;font-weight:400\">No Cost EMI from ₹3,000/month</div></div></div></div>, <div class=\"col col-5-12 nlI3QM\"><div class=\"_3tbKJL\"><div class=\"_25b18c\"><div class=\"_30jeq3 _1_WHN1\">₹27,999</div><div class=\"_3I9_wc _27UcVY\">₹<!-- -->30,999</div><div class=\"_3Ay6Sb\"><span>9% off</span></div></div><div class=\"_3tcB5a p8ucoS\"><div><div class=\"_2Tpdn3\" style=\"color:#000000;font-size:12px;font-weight:400\">Free delivery by</div><div class=\"_2Tpdn3\" style=\"color:#000000;font-size:12px;font-style:normal;font-weight:700\"> Today</div></div></div></div><div class=\"_13J9qT\"><img height=\"21\" src=\"//static-assets-web.flixcart.com/fk-p-linchpin-web/fk-cp-zion/img/fa_62673a.png\"/></div><div class=\"_2ZdXDB\"><div class=\"_3xFhiH\"><div class=\"_2Tpdn3 _18hQoS\" style=\"color:#000000;font-size:14px;font-style:normal;font-weight:400\">Upto </div><div class=\"_2Tpdn3 _18hQoS\" style=\"color:#000000;font-size:14px;font-style:normal;font-weight:700\">₹26,700</div><div class=\"_2Tpdn3 _18hQoS\" style=\"color:#000000;font-size:14px;font-style:normal;font-weight:400\"> Off on Exchange</div></div></div><div class=\"_2ZdXDB\"><div class=\"_3xFhiH\"><div class=\"_2Tpdn3 _18hQoS\" style=\"color:#26A541;font-size:14px;font-weight:700\">Bank Offer</div></div></div></div>, <div class=\"col col-5-12 nlI3QM\"><div class=\"_3tbKJL\"><div class=\"_25b18c\"><div class=\"_30jeq3 _1_WHN1\">₹18,400</div><div class=\"_3I9_wc _27UcVY\">₹<!-- -->25,999</div><div class=\"_3Ay6Sb\"><span>29% off</span></div></div><div class=\"_3tcB5a p8ucoS\"><div><div class=\"_2Tpdn3\" style=\"color:#000000;font-size:12px;font-weight:400\">Free delivery by</div><div class=\"_2Tpdn3\" style=\"color:#000000;font-size:12px;font-style:normal;font-weight:700\"> Today</div></div></div></div><div class=\"_13J9qT\"><img height=\"21\" src=\"//static-assets-web.flixcart.com/fk-p-linchpin-web/fk-cp-zion/img/fa_62673a.png\"/></div><div class=\"_2ZdXDB\"><div class=\"_3xFhiH\"><div class=\"_2Tpdn3 _18hQoS\" style=\"color:#000000;font-size:12px;font-weight:400\">No Cost EMI from ₹3,067/month</div></div></div><div class=\"_2ZdXDB\"><div class=\"_3xFhiH\"><div class=\"_2Tpdn3 _18hQoS\" style=\"color:#26A541;font-size:14px;font-weight:700\">Bank Offer</div></div></div></div>, <div class=\"col col-5-12 nlI3QM\"><div class=\"_3tbKJL\"><div class=\"_25b18c\"><div class=\"_30jeq3 _1_WHN1\">₹30,584</div><div class=\"_3I9_wc _27UcVY\">₹<!-- -->38,999</div><div class=\"_3Ay6Sb\"><span>21% off</span></div></div><div class=\"_3tcB5a p8ucoS\"><div><div class=\"_2Tpdn3\" style=\"color:#000000;font-size:12px;font-weight:400\">Free delivery by</div><div class=\"_2Tpdn3\" style=\"color:#000000;font-size:12px;font-style:normal;font-weight:700\"> Today</div></div></div></div><div class=\"_13J9qT\"><img height=\"21\" src=\"//static-assets-web.flixcart.com/fk-p-linchpin-web/fk-cp-zion/img/fa_62673a.png\"/></div><div class=\"_2ZdXDB\"><div class=\"_3xFhiH\"><div class=\"_2Tpdn3 _18hQoS\" style=\"color:#26A541;font-size:14px;font-weight:700\">Bank Offer</div></div></div></div>, <div class=\"col col-5-12 nlI3QM\"><div class=\"_3tbKJL\"><div class=\"_25b18c\"><div class=\"_30jeq3 _1_WHN1\">₹26,999</div><div class=\"_3I9_wc _27UcVY\">₹<!-- -->31,999</div><div class=\"_3Ay6Sb\"><span>15% off</span></div></div><div class=\"_3tcB5a p8ucoS\"><div><div class=\"_2Tpdn3\" style=\"color:#000000;font-size:12px;font-weight:400\">Free delivery by</div><div class=\"_2Tpdn3\" style=\"color:#000000;font-size:12px;font-style:normal;font-weight:700\"> Today</div></div></div></div><div class=\"_13J9qT\"><img height=\"21\" src=\"//static-assets-web.flixcart.com/fk-p-linchpin-web/fk-cp-zion/img/fa_62673a.png\"/></div><div class=\"_2ZdXDB\"><div class=\"_3xFhiH\"><div class=\"_2Tpdn3 _18hQoS\" style=\"color:#000000;font-size:14px;font-style:normal;font-weight:400\">Upto </div><div class=\"_2Tpdn3 _18hQoS\" style=\"color:#000000;font-size:14px;font-style:normal;font-weight:700\">₹25,100</div><div class=\"_2Tpdn3 _18hQoS\" style=\"color:#000000;font-size:14px;font-style:normal;font-weight:400\"> Off on Exchange</div></div></div><div class=\"_2ZdXDB\"><div class=\"_3xFhiH\"><div class=\"_2Tpdn3 _18hQoS\" style=\"color:#000000;font-size:12px;font-weight:400\">No Cost EMI from ₹3,000/month</div></div></div></div>, <div class=\"col col-5-12 nlI3QM\"><div class=\"_3tbKJL\"><div class=\"_25b18c\"><div class=\"_30jeq3 _1_WHN1\">₹26,999</div><div class=\"_3I9_wc _27UcVY\">₹<!-- -->34,999</div><div class=\"_3Ay6Sb\"><span>22% off</span></div></div><div class=\"_3tcB5a p8ucoS\"><div><div class=\"_2Tpdn3\" style=\"color:#000000;font-size:12px;font-weight:400\">Free delivery by</div><div class=\"_2Tpdn3\" style=\"color:#000000;font-size:12px;font-style:normal;font-weight:700\"> Today</div></div></div></div><div class=\"_13J9qT\"><img height=\"21\" src=\"//static-assets-web.flixcart.com/fk-p-linchpin-web/fk-cp-zion/img/fa_62673a.png\"/></div><div class=\"_2ZdXDB\"><div class=\"_3xFhiH\"><div class=\"_2Tpdn3 _18hQoS\" style=\"color:#000000;font-size:14px;font-style:normal;font-weight:400\">Upto </div><div class=\"_2Tpdn3 _18hQoS\" style=\"color:#000000;font-size:14px;font-style:normal;font-weight:700\">₹26,350</div><div class=\"_2Tpdn3 _18hQoS\" style=\"color:#000000;font-size:14px;font-style:normal;font-weight:400\"> Off on Exchange</div></div></div><div class=\"_2ZdXDB\"><div class=\"_3xFhiH\"><div class=\"_2Tpdn3 _18hQoS\" style=\"color:#26A541;font-size:14px;font-weight:700\">Bank Offer</div></div></div></div>, <div class=\"col col-5-12 nlI3QM\"><div class=\"_3tbKJL\"><div class=\"_25b18c\"><div class=\"_30jeq3 _1_WHN1\">₹29,990</div><div class=\"_3I9_wc _27UcVY\">₹<!-- -->38,999</div><div class=\"_3Ay6Sb\"><span>23% off</span></div></div><div class=\"_3tcB5a p8ucoS\"><div><div class=\"_2Tpdn3\" style=\"color:#000000;font-size:12px;font-weight:400\">Free delivery by</div><div class=\"_2Tpdn3\" style=\"color:#000000;font-size:12px;font-style:normal;font-weight:700\"> Today</div></div></div></div><div class=\"_13J9qT\"><img height=\"21\" src=\"//static-assets-web.flixcart.com/fk-p-linchpin-web/fk-cp-zion/img/fa_62673a.png\"/></div><div class=\"_2ZdXDB\"><div class=\"_3xFhiH\"><div class=\"_2Tpdn3 _18hQoS\" style=\"color:#26A541;font-size:14px;font-weight:700\">Bank Offer</div></div></div></div>, <div class=\"col col-5-12 nlI3QM\"><div class=\"_3tbKJL\"><div class=\"_25b18c\"><div class=\"_30jeq3 _1_WHN1\">₹29,999</div><div class=\"_3I9_wc _27UcVY\">₹<!-- -->33,999</div><div class=\"_3Ay6Sb\"><span>11% off</span></div></div><div class=\"_3tcB5a p8ucoS\"><div><div class=\"_2Tpdn3\" style=\"color:#000000;font-size:12px;font-weight:400\">Free delivery by</div><div class=\"_2Tpdn3\" style=\"color:#000000;font-size:12px;font-style:normal;font-weight:700\"> Today</div></div></div></div><div class=\"_13J9qT\"><img height=\"21\" src=\"//static-assets-web.flixcart.com/fk-p-linchpin-web/fk-cp-zion/img/fa_62673a.png\"/></div><div class=\"_2ZdXDB\"><div class=\"_3xFhiH\"><div class=\"_2Tpdn3 _18hQoS\" style=\"color:#26A541;font-size:12px;font-weight:700\">Daily Saver</div></div></div><div class=\"_2ZdXDB\"><div class=\"_3xFhiH\"><div class=\"_2Tpdn3 _18hQoS\" style=\"color:#000000;font-size:14px;font-style:normal;font-weight:400\">Upto </div><div class=\"_2Tpdn3 _18hQoS\" style=\"color:#000000;font-size:14px;font-style:normal;font-weight:700\">₹29,350</div><div class=\"_2Tpdn3 _18hQoS\" style=\"color:#000000;font-size:14px;font-style:normal;font-weight:400\"> Off on Exchange</div></div></div></div>, <div class=\"col col-5-12 nlI3QM\"><div class=\"_3tbKJL\"><div class=\"_25b18c\"><div class=\"_30jeq3 _1_WHN1\">₹29,999</div><div class=\"_3I9_wc _27UcVY\">₹<!-- -->33,999</div><div class=\"_3Ay6Sb\"><span>11% off</span></div></div><div class=\"_3tcB5a p8ucoS\"><div><div class=\"_2Tpdn3\" style=\"color:#000000;font-size:12px;font-weight:400\">Free delivery by</div><div class=\"_2Tpdn3\" style=\"color:#000000;font-size:12px;font-style:normal;font-weight:700\"> Today</div></div></div></div><div class=\"_13J9qT\"><img height=\"21\" src=\"//static-assets-web.flixcart.com/fk-p-linchpin-web/fk-cp-zion/img/fa_62673a.png\"/></div><div class=\"_2ZdXDB\"><div class=\"_3xFhiH\"><div class=\"_2Tpdn3 _18hQoS\" style=\"color:#26A541;font-size:12px;font-weight:700\">Daily Saver</div></div></div><div class=\"_2ZdXDB\"><div class=\"_3xFhiH\"><div class=\"_2Tpdn3 _18hQoS\" style=\"color:#000000;font-size:14px;font-style:normal;font-weight:400\">Upto </div><div class=\"_2Tpdn3 _18hQoS\" style=\"color:#000000;font-size:14px;font-style:normal;font-weight:700\">₹29,350</div><div class=\"_2Tpdn3 _18hQoS\" style=\"color:#000000;font-size:14px;font-style:normal;font-weight:400\"> Off on Exchange</div></div></div></div>, <div class=\"col col-5-12 nlI3QM\"><div class=\"_3tbKJL\"><div class=\"_25b18c\"><div class=\"_30jeq3 _1_WHN1\">₹29,999</div><div class=\"_3I9_wc _27UcVY\">₹<!-- -->39,999</div><div class=\"_3Ay6Sb\"><span>25% off</span></div></div><div class=\"_3tcB5a p8ucoS\"><div><div class=\"_2Tpdn3\" style=\"color:#000000;font-size:12px;font-weight:400\">Free delivery by</div><div class=\"_2Tpdn3\" style=\"color:#000000;font-size:12px;font-style:normal;font-weight:700\"> Today</div></div></div></div><div class=\"_13J9qT\"><img height=\"21\" src=\"//static-assets-web.flixcart.com/fk-p-linchpin-web/fk-cp-zion/img/fa_62673a.png\"/></div><div class=\"_2ZdXDB\"><div class=\"_3xFhiH\"><div class=\"_2Tpdn3 _18hQoS\" style=\"color:#000000;font-size:14px;font-style:normal;font-weight:400\">Upto </div><div class=\"_2Tpdn3 _18hQoS\" style=\"color:#000000;font-size:14px;font-style:normal;font-weight:700\">₹26,700</div><div class=\"_2Tpdn3 _18hQoS\" style=\"color:#000000;font-size:14px;font-style:normal;font-weight:400\"> Off on Exchange</div></div></div><div class=\"_2ZdXDB\"><div class=\"_3xFhiH\"><div class=\"_2Tpdn3 _18hQoS\" style=\"color:#26A541;font-size:14px;font-weight:700\">Bank Offer</div></div></div></div>, <div class=\"col col-5-12 nlI3QM\"><div class=\"_3tbKJL\"><div class=\"_25b18c\"><div class=\"_30jeq3 _1_WHN1\">₹26,999</div><div class=\"_3I9_wc _27UcVY\">₹<!-- -->34,999</div><div class=\"_3Ay6Sb\"><span>22% off</span></div></div><div class=\"_3tcB5a p8ucoS\"><div><div class=\"_2Tpdn3\" style=\"color:#000000;font-size:12px;font-weight:400\">Free delivery by</div><div class=\"_2Tpdn3\" style=\"color:#000000;font-size:12px;font-style:normal;font-weight:700\"> Today</div></div></div></div><div class=\"_13J9qT\"><img height=\"21\" src=\"//static-assets-web.flixcart.com/fk-p-linchpin-web/fk-cp-zion/img/fa_62673a.png\"/></div><div class=\"_2ZdXDB\"><div class=\"_3xFhiH\"><div class=\"_2Tpdn3 _18hQoS\" style=\"color:#000000;font-size:14px;font-style:normal;font-weight:400\">Upto </div><div class=\"_2Tpdn3 _18hQoS\" style=\"color:#000000;font-size:14px;font-style:normal;font-weight:700\">₹26,350</div><div class=\"_2Tpdn3 _18hQoS\" style=\"color:#000000;font-size:14px;font-style:normal;font-weight:400\"> Off on Exchange</div></div></div><div class=\"_2ZdXDB\"><div class=\"_3xFhiH\"><div class=\"_2Tpdn3 _18hQoS\" style=\"color:#26A541;font-size:14px;font-weight:700\">Bank Offer</div></div></div></div>]\n"
          ]
        }
      ],
      "source": [
        "# Fetching price section\n",
        "prices = soup.find_all('div', class_=\"col col-5-12 nlI3QM\")\n",
        "print(prices)"
      ]
    },
    {
      "cell_type": "code",
      "execution_count": 8,
      "metadata": {
        "id": "wyMCDoiEjuAq"
      },
      "outputs": [],
      "source": [
        "# Extracting prices\n",
        "product_price = []\n",
        "\n",
        "for price in prices:\n",
        "  pri = price.find('div', class_=\"_30jeq3 _1_WHN1\").text.split(\"₹\")[-1].strip()\n",
        "  product_price.append(pri)"
      ]
    },
    {
      "cell_type": "code",
      "execution_count": 9,
      "metadata": {
        "colab": {
          "base_uri": "https://localhost:8080/"
        },
        "id": "iu7SZTXnq5fR",
        "outputId": "b82ef59f-f6dd-4c57-9909-54115fded24c"
      },
      "outputs": [
        {
          "data": {
            "text/plain": [
              "['29,999', '21,999', '23,999', '23,999', '24,999']"
            ]
          },
          "execution_count": 9,
          "metadata": {},
          "output_type": "execute_result"
        }
      ],
      "source": [
        "product_price[:5]"
      ]
    },
    {
      "cell_type": "markdown",
      "metadata": {
        "id": "rYv-ByoFrSrO"
      },
      "source": [
        "# **Convert to DataFrame**"
      ]
    },
    {
      "cell_type": "code",
      "execution_count": 10,
      "metadata": {
        "colab": {
          "base_uri": "https://localhost:8080/",
          "height": 738
        },
        "id": "iDTAuKNKrfAT",
        "outputId": "d407fe62-f277-48c9-a6be-65112d2b7139"
      },
      "outputs": [
        {
          "data": {
            "text/html": [
              "<div>\n",
              "<style scoped>\n",
              "    .dataframe tbody tr th:only-of-type {\n",
              "        vertical-align: middle;\n",
              "    }\n",
              "\n",
              "    .dataframe tbody tr th {\n",
              "        vertical-align: top;\n",
              "    }\n",
              "\n",
              "    .dataframe thead th {\n",
              "        text-align: right;\n",
              "    }\n",
              "</style>\n",
              "<table border=\"1\" class=\"dataframe\">\n",
              "  <thead>\n",
              "    <tr style=\"text-align: right;\">\n",
              "      <th></th>\n",
              "      <th>brand</th>\n",
              "      <th>title</th>\n",
              "      <th>storage</th>\n",
              "      <th>camera</th>\n",
              "      <th>battery</th>\n",
              "      <th>total_ratings</th>\n",
              "      <th>avg_ratings</th>\n",
              "      <th>total_reviews</th>\n",
              "    </tr>\n",
              "  </thead>\n",
              "  <tbody>\n",
              "    <tr>\n",
              "      <th>0</th>\n",
              "      <td>MOTOROLA</td>\n",
              "      <td>MOTOROLA Edge 40 (Nebula Green, 256 GB)</td>\n",
              "      <td>8 GB RAM | 256 GB ROM</td>\n",
              "      <td>50MP + 13MP | 32MP Front Camera</td>\n",
              "      <td>4400 mAh Battery</td>\n",
              "      <td>12,911</td>\n",
              "      <td>4.2</td>\n",
              "      <td>2,087</td>\n",
              "    </tr>\n",
              "    <tr>\n",
              "      <th>1</th>\n",
              "      <td>POCO</td>\n",
              "      <td>POCO X5 Pro 5G (Horizon Blue, 256 GB)</td>\n",
              "      <td>8 GB RAM | 256 GB ROM</td>\n",
              "      <td>108MP + 8MP + 2MP | 16MP Front Camera</td>\n",
              "      <td>5000 mAh Battery</td>\n",
              "      <td>11,541</td>\n",
              "      <td>4.3</td>\n",
              "      <td>1,173</td>\n",
              "    </tr>\n",
              "    <tr>\n",
              "      <th>2</th>\n",
              "      <td>REDMI</td>\n",
              "      <td>REDMI Note 12 Pro 5G (Glacier Blue, 128 GB)</td>\n",
              "      <td>6 GB RAM | 128 GB ROM</td>\n",
              "      <td>50MP (OIS) + 8MP + 2MP | 16MP Front Camera</td>\n",
              "      <td>5000 mAh Lithium Polymer Battery</td>\n",
              "      <td>28,790</td>\n",
              "      <td>4.2</td>\n",
              "      <td>2,780</td>\n",
              "    </tr>\n",
              "    <tr>\n",
              "      <th>3</th>\n",
              "      <td>REDMI</td>\n",
              "      <td>REDMI Note 12 Pro 5G (Onyx Black, 128 GB)</td>\n",
              "      <td>6 GB RAM | 128 GB ROM</td>\n",
              "      <td>50MP (OIS) + 8MP + 2MP | 16MP Front Camera</td>\n",
              "      <td>5000 mAh Lithium Polymer Battery</td>\n",
              "      <td>28,790</td>\n",
              "      <td>4.2</td>\n",
              "      <td>2,780</td>\n",
              "    </tr>\n",
              "    <tr>\n",
              "      <th>4</th>\n",
              "      <td>REDMI</td>\n",
              "      <td>REDMI Note 12 Pro 5G (Stardust Purple, 128 GB)</td>\n",
              "      <td>8 GB RAM | 128 GB ROM</td>\n",
              "      <td>50MP (OIS) + 8MP + 2MP | 16MP Front Camera</td>\n",
              "      <td>5000 mAh Lithium Polymer Battery</td>\n",
              "      <td>14,028</td>\n",
              "      <td>4.2</td>\n",
              "      <td>1,319</td>\n",
              "    </tr>\n",
              "  </tbody>\n",
              "</table>\n",
              "</div>"
            ],
            "text/plain": [
              "      brand                                           title  \\\n",
              "0  MOTOROLA         MOTOROLA Edge 40 (Nebula Green, 256 GB)   \n",
              "1      POCO           POCO X5 Pro 5G (Horizon Blue, 256 GB)   \n",
              "2     REDMI     REDMI Note 12 Pro 5G (Glacier Blue, 128 GB)   \n",
              "3     REDMI       REDMI Note 12 Pro 5G (Onyx Black, 128 GB)   \n",
              "4     REDMI  REDMI Note 12 Pro 5G (Stardust Purple, 128 GB)   \n",
              "\n",
              "                 storage                                      camera  \\\n",
              "0  8 GB RAM | 256 GB ROM             50MP + 13MP | 32MP Front Camera   \n",
              "1  8 GB RAM | 256 GB ROM       108MP + 8MP + 2MP | 16MP Front Camera   \n",
              "2  6 GB RAM | 128 GB ROM  50MP (OIS) + 8MP + 2MP | 16MP Front Camera   \n",
              "3  6 GB RAM | 128 GB ROM  50MP (OIS) + 8MP + 2MP | 16MP Front Camera   \n",
              "4  8 GB RAM | 128 GB ROM  50MP (OIS) + 8MP + 2MP | 16MP Front Camera   \n",
              "\n",
              "                            battery total_ratings avg_ratings total_reviews  \n",
              "0                  4400 mAh Battery        12,911         4.2         2,087  \n",
              "1                  5000 mAh Battery        11,541         4.3         1,173  \n",
              "2  5000 mAh Lithium Polymer Battery        28,790         4.2         2,780  \n",
              "3  5000 mAh Lithium Polymer Battery        28,790         4.2         2,780  \n",
              "4  5000 mAh Lithium Polymer Battery        14,028         4.2         1,319  "
            ]
          },
          "execution_count": 10,
          "metadata": {},
          "output_type": "execute_result"
        }
      ],
      "source": [
        "# Dataframe\n",
        "df = pd.DataFrame(product_list, columns=['brand', 'title', 'storage', 'camera', 'battery', 'total_ratings', 'avg_ratings', 'total_reviews'])\n",
        "df.head()"
      ]
    },
    {
      "cell_type": "code",
      "execution_count": 11,
      "metadata": {
        "colab": {
          "base_uri": "https://localhost:8080/",
          "height": 738
        },
        "id": "RI0pvGd5tYR8",
        "outputId": "fce2be9b-0c6a-4203-ff37-a15ef12ec9eb"
      },
      "outputs": [
        {
          "data": {
            "text/html": [
              "<div>\n",
              "<style scoped>\n",
              "    .dataframe tbody tr th:only-of-type {\n",
              "        vertical-align: middle;\n",
              "    }\n",
              "\n",
              "    .dataframe tbody tr th {\n",
              "        vertical-align: top;\n",
              "    }\n",
              "\n",
              "    .dataframe thead th {\n",
              "        text-align: right;\n",
              "    }\n",
              "</style>\n",
              "<table border=\"1\" class=\"dataframe\">\n",
              "  <thead>\n",
              "    <tr style=\"text-align: right;\">\n",
              "      <th></th>\n",
              "      <th>brand</th>\n",
              "      <th>title</th>\n",
              "      <th>storage</th>\n",
              "      <th>camera</th>\n",
              "      <th>battery</th>\n",
              "      <th>total_ratings</th>\n",
              "      <th>avg_ratings</th>\n",
              "      <th>total_reviews</th>\n",
              "      <th>price</th>\n",
              "    </tr>\n",
              "  </thead>\n",
              "  <tbody>\n",
              "    <tr>\n",
              "      <th>0</th>\n",
              "      <td>MOTOROLA</td>\n",
              "      <td>MOTOROLA Edge 40 (Nebula Green, 256 GB)</td>\n",
              "      <td>8 GB RAM | 256 GB ROM</td>\n",
              "      <td>50MP + 13MP | 32MP Front Camera</td>\n",
              "      <td>4400 mAh Battery</td>\n",
              "      <td>12,911</td>\n",
              "      <td>4.2</td>\n",
              "      <td>2,087</td>\n",
              "      <td>29,999</td>\n",
              "    </tr>\n",
              "    <tr>\n",
              "      <th>1</th>\n",
              "      <td>POCO</td>\n",
              "      <td>POCO X5 Pro 5G (Horizon Blue, 256 GB)</td>\n",
              "      <td>8 GB RAM | 256 GB ROM</td>\n",
              "      <td>108MP + 8MP + 2MP | 16MP Front Camera</td>\n",
              "      <td>5000 mAh Battery</td>\n",
              "      <td>11,541</td>\n",
              "      <td>4.3</td>\n",
              "      <td>1,173</td>\n",
              "      <td>21,999</td>\n",
              "    </tr>\n",
              "    <tr>\n",
              "      <th>2</th>\n",
              "      <td>REDMI</td>\n",
              "      <td>REDMI Note 12 Pro 5G (Glacier Blue, 128 GB)</td>\n",
              "      <td>6 GB RAM | 128 GB ROM</td>\n",
              "      <td>50MP (OIS) + 8MP + 2MP | 16MP Front Camera</td>\n",
              "      <td>5000 mAh Lithium Polymer Battery</td>\n",
              "      <td>28,790</td>\n",
              "      <td>4.2</td>\n",
              "      <td>2,780</td>\n",
              "      <td>23,999</td>\n",
              "    </tr>\n",
              "    <tr>\n",
              "      <th>3</th>\n",
              "      <td>REDMI</td>\n",
              "      <td>REDMI Note 12 Pro 5G (Onyx Black, 128 GB)</td>\n",
              "      <td>6 GB RAM | 128 GB ROM</td>\n",
              "      <td>50MP (OIS) + 8MP + 2MP | 16MP Front Camera</td>\n",
              "      <td>5000 mAh Lithium Polymer Battery</td>\n",
              "      <td>28,790</td>\n",
              "      <td>4.2</td>\n",
              "      <td>2,780</td>\n",
              "      <td>23,999</td>\n",
              "    </tr>\n",
              "    <tr>\n",
              "      <th>4</th>\n",
              "      <td>REDMI</td>\n",
              "      <td>REDMI Note 12 Pro 5G (Stardust Purple, 128 GB)</td>\n",
              "      <td>8 GB RAM | 128 GB ROM</td>\n",
              "      <td>50MP (OIS) + 8MP + 2MP | 16MP Front Camera</td>\n",
              "      <td>5000 mAh Lithium Polymer Battery</td>\n",
              "      <td>14,028</td>\n",
              "      <td>4.2</td>\n",
              "      <td>1,319</td>\n",
              "      <td>24,999</td>\n",
              "    </tr>\n",
              "  </tbody>\n",
              "</table>\n",
              "</div>"
            ],
            "text/plain": [
              "      brand                                           title  \\\n",
              "0  MOTOROLA         MOTOROLA Edge 40 (Nebula Green, 256 GB)   \n",
              "1      POCO           POCO X5 Pro 5G (Horizon Blue, 256 GB)   \n",
              "2     REDMI     REDMI Note 12 Pro 5G (Glacier Blue, 128 GB)   \n",
              "3     REDMI       REDMI Note 12 Pro 5G (Onyx Black, 128 GB)   \n",
              "4     REDMI  REDMI Note 12 Pro 5G (Stardust Purple, 128 GB)   \n",
              "\n",
              "                 storage                                      camera  \\\n",
              "0  8 GB RAM | 256 GB ROM             50MP + 13MP | 32MP Front Camera   \n",
              "1  8 GB RAM | 256 GB ROM       108MP + 8MP + 2MP | 16MP Front Camera   \n",
              "2  6 GB RAM | 128 GB ROM  50MP (OIS) + 8MP + 2MP | 16MP Front Camera   \n",
              "3  6 GB RAM | 128 GB ROM  50MP (OIS) + 8MP + 2MP | 16MP Front Camera   \n",
              "4  8 GB RAM | 128 GB ROM  50MP (OIS) + 8MP + 2MP | 16MP Front Camera   \n",
              "\n",
              "                            battery total_ratings avg_ratings total_reviews  \\\n",
              "0                  4400 mAh Battery        12,911         4.2         2,087   \n",
              "1                  5000 mAh Battery        11,541         4.3         1,173   \n",
              "2  5000 mAh Lithium Polymer Battery        28,790         4.2         2,780   \n",
              "3  5000 mAh Lithium Polymer Battery        28,790         4.2         2,780   \n",
              "4  5000 mAh Lithium Polymer Battery        14,028         4.2         1,319   \n",
              "\n",
              "    price  \n",
              "0  29,999  \n",
              "1  21,999  \n",
              "2  23,999  \n",
              "3  23,999  \n",
              "4  24,999  "
            ]
          },
          "execution_count": 11,
          "metadata": {},
          "output_type": "execute_result"
        }
      ],
      "source": [
        "# Append price feature\n",
        "df['price'] = product_price\n",
        "df.head()"
      ]
    },
    {
      "cell_type": "code",
      "execution_count": 12,
      "metadata": {
        "colab": {
          "base_uri": "https://localhost:8080/"
        },
        "id": "dKpzrDJUvIrN",
        "outputId": "714df7b7-4737-436d-a3fc-9171580ec4e5"
      },
      "outputs": [
        {
          "data": {
            "text/plain": [
              "24"
            ]
          },
          "execution_count": 12,
          "metadata": {},
          "output_type": "execute_result"
        }
      ],
      "source": [
        "len(df)"
      ]
    },
    {
      "cell_type": "markdown",
      "metadata": {
        "id": "srOSgUX71F36"
      },
      "source": [
        "# **Scraping Multiple Pages**"
      ]
    },
    {
      "cell_type": "code",
      "execution_count": 13,
      "metadata": {
        "id": "exyjgnoOwVEK"
      },
      "outputs": [],
      "source": [
        "product_list_m = []\n",
        "product_price_m = []\n",
        "\n",
        "for i in range(1,4):\n",
        "  url_m = f\"https://www.flipkart.com/search?q=mobiles+under+30000&sid=tyy%2C4io&as=on&as-show=on&otracker=AS_QueryStore_OrganicAutoSuggest_1_19_na_na_na&otracker1=AS_QueryStore_OrganicAutoSuggest_1_19_na_na_na&as-pos=1&as-type=RECENT&suggestionId=mobiles+under+30000%7CMobiles&requestId=bb73f3df-c81e-4d3f-b276-c12eb62f407a&as-searchtext=mobiles+under+30000&page={i}\"\n",
        "  req_m = requests.get(url_m)\n",
        "  soup_m = BeautifulSoup(req_m.text, \"html.parser\")\n",
        "\n",
        "  # Extracting each division\n",
        "  lists_m = soup_m.find_all(\"div\", class_=\"col col-7-12\")\n",
        "\n",
        "  # Extracting smartphones features\n",
        "\n",
        "  for list in lists_m:\n",
        "    title_m = list.find('div', class_=\"_4rR01T\").text.strip()\n",
        "    brand_m = title_m.split()[0]\n",
        "\n",
        "    ratings_m = list.find('div', class_=\"_3LWZlK\").text.strip()\n",
        "\n",
        "    ratings_n_reviews_m = list.find('span', class_=\"_2_R_DZ\").text\n",
        "    number_of_ratings_m = ratings_n_reviews_m.split()[0].strip()\n",
        "    number_of_reviews_m = ratings_n_reviews_m.split()[-2].strip()\n",
        "\n",
        "    desc_m = list.find_all('li', class_=\"rgWa7D\")\n",
        "    storage_m = desc_m[0].text.strip()\n",
        "    camera_m = desc_m[2].text.strip()\n",
        "    battery_m = desc_m[3].text.strip()\n",
        "\n",
        "    product_list_m.append([brand_m, title_m, storage_m, camera_m, battery_m, number_of_ratings_m, ratings_m, number_of_reviews_m])\n",
        "\n",
        "  # Fetching price section\n",
        "  prices_m = soup_m.find_all('div', class_=\"col col-5-12 nlI3QM\")\n",
        "\n",
        "  # Extracting prices\n",
        "  for price in prices_m:\n",
        "    pri_m = price.find('div', class_=\"_30jeq3 _1_WHN1\").text.split(\"₹\")[-1].strip()\n",
        "    product_price_m.append(pri_m)"
      ]
    },
    {
      "cell_type": "code",
      "execution_count": 14,
      "metadata": {
        "colab": {
          "base_uri": "https://localhost:8080/"
        },
        "id": "CAEguPaSfiQH",
        "outputId": "f9a0539b-1b64-4878-aad2-85abacd0041d"
      },
      "outputs": [
        {
          "data": {
            "text/plain": [
              "[['MOTOROLA',\n",
              "  'MOTOROLA Edge 40 (Nebula Green, 256 GB)',\n",
              "  '8 GB RAM | 256 GB ROM',\n",
              "  '50MP + 13MP | 32MP Front Camera',\n",
              "  '4400 mAh Battery',\n",
              "  '12,911',\n",
              "  '4.2',\n",
              "  '2,087'],\n",
              " ['POCO',\n",
              "  'POCO X5 Pro 5G (Horizon Blue, 256 GB)',\n",
              "  '8 GB RAM | 256 GB ROM',\n",
              "  '108MP + 8MP + 2MP | 16MP Front Camera',\n",
              "  '5000 mAh Battery',\n",
              "  '11,541',\n",
              "  '4.3',\n",
              "  '1,173'],\n",
              " ['REDMI',\n",
              "  'REDMI Note 12 Pro 5G (Glacier Blue, 128 GB)',\n",
              "  '6 GB RAM | 128 GB ROM',\n",
              "  '50MP (OIS) + 8MP + 2MP | 16MP Front Camera',\n",
              "  '5000 mAh Lithium Polymer Battery',\n",
              "  '28,790',\n",
              "  '4.2',\n",
              "  '2,780']]"
            ]
          },
          "execution_count": 14,
          "metadata": {},
          "output_type": "execute_result"
        }
      ],
      "source": [
        "product_list_m[:3]"
      ]
    },
    {
      "cell_type": "code",
      "execution_count": 15,
      "metadata": {
        "colab": {
          "base_uri": "https://localhost:8080/"
        },
        "id": "zbm2zH-Hf5ny",
        "outputId": "7937dddb-b0e8-4cc8-c93b-25a3cefaca95"
      },
      "outputs": [
        {
          "name": "stdout",
          "output_type": "stream",
          "text": [
            "['29,999', '21,999', '23,999', '23,999', '24,999']\n"
          ]
        }
      ],
      "source": [
        "print(product_price_m[:5])"
      ]
    },
    {
      "cell_type": "code",
      "execution_count": 16,
      "metadata": {
        "colab": {
          "base_uri": "https://localhost:8080/",
          "height": 738
        },
        "id": "PzeOPV8Gf_3f",
        "outputId": "27db7405-51c8-41ea-f6da-848261793e59"
      },
      "outputs": [
        {
          "data": {
            "text/html": [
              "<div>\n",
              "<style scoped>\n",
              "    .dataframe tbody tr th:only-of-type {\n",
              "        vertical-align: middle;\n",
              "    }\n",
              "\n",
              "    .dataframe tbody tr th {\n",
              "        vertical-align: top;\n",
              "    }\n",
              "\n",
              "    .dataframe thead th {\n",
              "        text-align: right;\n",
              "    }\n",
              "</style>\n",
              "<table border=\"1\" class=\"dataframe\">\n",
              "  <thead>\n",
              "    <tr style=\"text-align: right;\">\n",
              "      <th></th>\n",
              "      <th>brand</th>\n",
              "      <th>title</th>\n",
              "      <th>storage</th>\n",
              "      <th>camera</th>\n",
              "      <th>battery</th>\n",
              "      <th>total_ratings</th>\n",
              "      <th>avg_rating</th>\n",
              "      <th>total_reviews</th>\n",
              "      <th>price</th>\n",
              "    </tr>\n",
              "  </thead>\n",
              "  <tbody>\n",
              "    <tr>\n",
              "      <th>0</th>\n",
              "      <td>MOTOROLA</td>\n",
              "      <td>MOTOROLA Edge 40 (Nebula Green, 256 GB)</td>\n",
              "      <td>8 GB RAM | 256 GB ROM</td>\n",
              "      <td>50MP + 13MP | 32MP Front Camera</td>\n",
              "      <td>4400 mAh Battery</td>\n",
              "      <td>12,911</td>\n",
              "      <td>4.2</td>\n",
              "      <td>2,087</td>\n",
              "      <td>29,999</td>\n",
              "    </tr>\n",
              "    <tr>\n",
              "      <th>1</th>\n",
              "      <td>POCO</td>\n",
              "      <td>POCO X5 Pro 5G (Horizon Blue, 256 GB)</td>\n",
              "      <td>8 GB RAM | 256 GB ROM</td>\n",
              "      <td>108MP + 8MP + 2MP | 16MP Front Camera</td>\n",
              "      <td>5000 mAh Battery</td>\n",
              "      <td>11,541</td>\n",
              "      <td>4.3</td>\n",
              "      <td>1,173</td>\n",
              "      <td>21,999</td>\n",
              "    </tr>\n",
              "    <tr>\n",
              "      <th>2</th>\n",
              "      <td>REDMI</td>\n",
              "      <td>REDMI Note 12 Pro 5G (Glacier Blue, 128 GB)</td>\n",
              "      <td>6 GB RAM | 128 GB ROM</td>\n",
              "      <td>50MP (OIS) + 8MP + 2MP | 16MP Front Camera</td>\n",
              "      <td>5000 mAh Lithium Polymer Battery</td>\n",
              "      <td>28,790</td>\n",
              "      <td>4.2</td>\n",
              "      <td>2,780</td>\n",
              "      <td>23,999</td>\n",
              "    </tr>\n",
              "    <tr>\n",
              "      <th>3</th>\n",
              "      <td>REDMI</td>\n",
              "      <td>REDMI Note 12 Pro 5G (Onyx Black, 128 GB)</td>\n",
              "      <td>6 GB RAM | 128 GB ROM</td>\n",
              "      <td>50MP (OIS) + 8MP + 2MP | 16MP Front Camera</td>\n",
              "      <td>5000 mAh Lithium Polymer Battery</td>\n",
              "      <td>28,790</td>\n",
              "      <td>4.2</td>\n",
              "      <td>2,780</td>\n",
              "      <td>23,999</td>\n",
              "    </tr>\n",
              "    <tr>\n",
              "      <th>4</th>\n",
              "      <td>REDMI</td>\n",
              "      <td>REDMI Note 12 Pro 5G (Stardust Purple, 128 GB)</td>\n",
              "      <td>8 GB RAM | 128 GB ROM</td>\n",
              "      <td>50MP (OIS) + 8MP + 2MP | 16MP Front Camera</td>\n",
              "      <td>5000 mAh Lithium Polymer Battery</td>\n",
              "      <td>14,028</td>\n",
              "      <td>4.2</td>\n",
              "      <td>1,319</td>\n",
              "      <td>24,999</td>\n",
              "    </tr>\n",
              "  </tbody>\n",
              "</table>\n",
              "</div>"
            ],
            "text/plain": [
              "      brand                                           title  \\\n",
              "0  MOTOROLA         MOTOROLA Edge 40 (Nebula Green, 256 GB)   \n",
              "1      POCO           POCO X5 Pro 5G (Horizon Blue, 256 GB)   \n",
              "2     REDMI     REDMI Note 12 Pro 5G (Glacier Blue, 128 GB)   \n",
              "3     REDMI       REDMI Note 12 Pro 5G (Onyx Black, 128 GB)   \n",
              "4     REDMI  REDMI Note 12 Pro 5G (Stardust Purple, 128 GB)   \n",
              "\n",
              "                 storage                                      camera  \\\n",
              "0  8 GB RAM | 256 GB ROM             50MP + 13MP | 32MP Front Camera   \n",
              "1  8 GB RAM | 256 GB ROM       108MP + 8MP + 2MP | 16MP Front Camera   \n",
              "2  6 GB RAM | 128 GB ROM  50MP (OIS) + 8MP + 2MP | 16MP Front Camera   \n",
              "3  6 GB RAM | 128 GB ROM  50MP (OIS) + 8MP + 2MP | 16MP Front Camera   \n",
              "4  8 GB RAM | 128 GB ROM  50MP (OIS) + 8MP + 2MP | 16MP Front Camera   \n",
              "\n",
              "                            battery total_ratings avg_rating total_reviews  \\\n",
              "0                  4400 mAh Battery        12,911        4.2         2,087   \n",
              "1                  5000 mAh Battery        11,541        4.3         1,173   \n",
              "2  5000 mAh Lithium Polymer Battery        28,790        4.2         2,780   \n",
              "3  5000 mAh Lithium Polymer Battery        28,790        4.2         2,780   \n",
              "4  5000 mAh Lithium Polymer Battery        14,028        4.2         1,319   \n",
              "\n",
              "    price  \n",
              "0  29,999  \n",
              "1  21,999  \n",
              "2  23,999  \n",
              "3  23,999  \n",
              "4  24,999  "
            ]
          },
          "execution_count": 16,
          "metadata": {},
          "output_type": "execute_result"
        }
      ],
      "source": [
        "# Convert to DataFrame\n",
        "product_df = pd.DataFrame(product_list_m, columns=['brand', 'title','storage','camera','battery','total_ratings','avg_rating','total_reviews'])\n",
        "product_df['price'] = product_price_m\n",
        "product_df.head()"
      ]
    },
    {
      "cell_type": "markdown",
      "metadata": {},
      "source": [
        "### **Convert DataFrame to CSV**"
      ]
    },
    {
      "cell_type": "code",
      "execution_count": 17,
      "metadata": {},
      "outputs": [],
      "source": [
        "product_df.to_csv(\"product.csv\")"
      ]
    }
  ],
  "metadata": {
    "colab": {
      "provenance": []
    },
    "kernelspec": {
      "display_name": "Python 3",
      "name": "python3"
    },
    "language_info": {
      "codemirror_mode": {
        "name": "ipython",
        "version": 3
      },
      "file_extension": ".py",
      "mimetype": "text/x-python",
      "name": "python",
      "nbconvert_exporter": "python",
      "pygments_lexer": "ipython3",
      "version": "3.10.9"
    }
  },
  "nbformat": 4,
  "nbformat_minor": 0
}
